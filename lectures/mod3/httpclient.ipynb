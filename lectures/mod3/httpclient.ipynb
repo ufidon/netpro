{
 "cells": [
  {
   "cell_type": "markdown",
   "id": "c9c016d7-820b-4265-9d64-69f158082b70",
   "metadata": {},
   "source": [
    "# HTTP clients\n",
    "FPNP3e ch9\n",
    "\n",
    "# References\n",
    "- [HTTP](https://en.wikipedia.org/wiki/HTTP)\n",
    "- [HTTP Documentation](https://httpwg.org/specs/)\n",
    "\n",
    "Objectives\n",
    "---\n",
    "- Learn how to use the HTTP protocol from the perspective of a client\n",
    "  - fetch and cache documents\n",
    "  - submit queries or data to the server \n",
    "- Get familiar with HTTP version 1.1 defined in [RFCs 9110-9112](https://httpwg.org/specs/)\n",
    "  -  the most common version in use today\n",
    "\n",
    "HTTP overview\n",
    "---\n",
    "- a request–response protocol in the client–server model\n",
    "  - HTTP headers are managed end-to-end\n",
    "- intermediate HTTP nodes (proxy servers, web caches, etc.) may be used to improve performance\n",
    "  - HTTP headers are managed hop-by-hop\n",
    "- a stateless protocol\n",
    "  - no requirements on the web server to retain information or status about each user for the duration of multiple requests\n",
    "- states can be implemented to manage user sessions\n",
    "  - using cookies or hidden variables \n",
    "- HTTP 1.1/2 runs on TCP\n",
    "  - HTTP 3 runs on QUIC + UDP\n",
    "\n",
    "\n",
    "Python Client Libraries\n",
    "---\n",
    "- [urllib](https://docs.python.org/3/library/urllib.html), built into PSL\n",
    "- [Requests](https://requests.readthedocs.io/en/latest/), a full-featured third-party solution\n",
    "- Their basic interfaces are quite similar\n",
    "    - a callable that opens an HTTP connection,\n",
    "    - makes a request, and waits for the response headers \n",
    "        - before returning a response object that presents them to the programmer\n",
    "    - The response body is left queued on the incoming socket\n",
    "        - and read only when the programmer asks\n",
    "- testbed website: [httpbin.org](http://httpbin.org/)\n",
    "  ```bash\n",
    "    # install required packages\n",
    "    pip install gunicorn requests\n",
    "    # Host httpbin.org locally with docker\n",
    "    docker run -p 80:80 kennethreitz/httpbin\n",
    "  ```"
   ]
  },
  {
   "cell_type": "code",
   "execution_count": 1,
   "id": "d008fae0-4fba-4300-a3b4-29b14002615e",
   "metadata": {},
   "outputs": [
    {
     "name": "stdout",
     "output_type": "stream",
     "text": [
      "{\n",
      "  \"headers\": {\n",
      "    \"Accept\": \"*/*\", \n",
      "    \"Accept-Encoding\": \"gzip, deflate, br\", \n",
      "    \"Host\": \"httpbin.org\", \n",
      "    \"User-Agent\": \"python-requests/2.31.0\", \n",
      "    \"X-Amzn-Trace-Id\": \"Root=1-651d6983-46752f1a256fe87b361c1f73\"\n",
      "  }\n",
      "}\n",
      "\n"
     ]
    }
   ],
   "source": [
    "# fetch httpbin with Requests\n",
    "import requests\n",
    "# r = requests.get('http://localhost/headers')\n",
    "r = requests.get('http://httpbin.org/headers')\n",
    "print(r.text)"
   ]
  },
  {
   "cell_type": "code",
   "execution_count": 2,
   "id": "7e09adb2-4311-47e9-98a8-be1f58426530",
   "metadata": {
    "scrolled": true
   },
   "outputs": [
    {
     "name": "stdout",
     "output_type": "stream",
     "text": [
      "{\n",
      "  \"headers\": {\n",
      "    \"Accept-Encoding\": \"identity\", \n",
      "    \"Host\": \"httpbin.org\", \n",
      "    \"User-Agent\": \"Python-urllib/3.11\", \n",
      "    \"X-Amzn-Trace-Id\": \"Root=1-651d6988-4f2526060d73fdac5ac6b559\"\n",
      "  }\n",
      "}\n",
      "\n"
     ]
    }
   ],
   "source": [
    "# fetch httpbin with urllib\n",
    "from urllib.request import urlopen\n",
    "import urllib.error\n",
    "#r = urlopen('http://localhost/headers')\n",
    "r = urlopen('http://httpbin.org/headers')\n",
    "print(r.read().decode('utf-8'))"
   ]
  },
  {
   "cell_type": "markdown",
   "id": "ab759f6e-545e-42ab-a705-985adcf79b36",
   "metadata": {},
   "source": [
    "Differences between urllib and Requests\n",
    "---\n",
    "| lib\\feature | supports gzip | determines correct decoding |\n",
    "| --- | --- | --- |\n",
    "| Requests | Y | Y |\n",
    "| urllib | N | N |"
   ]
  },
  {
   "cell_type": "markdown",
   "id": "80b05d4a-526a-4ff6-a101-c00242724dd3",
   "metadata": {},
   "source": [
    "- To go beyond the HTTP protocol to be more browser-like\n",
    "    - refer to related libraries such as *mechanize*\n",
    "- Here we focus on the HTTP protocol"
   ]
  },
  {
   "cell_type": "markdown",
   "id": "3ea3fa8e-64d3-461f-a005-e6d762343a36",
   "metadata": {},
   "source": [
    "Ports, Encryption, and Framing\n",
    "---\n",
    "- 80:  the standard port for plain-text HTTP conversations\n",
    "- 443:  the standard port for HTTP conversations wrapped by TLS\n",
    "- Non standard ports can be used. \n",
    "  - The client needs to specify it in the URLs\n",
    "\n",
    "```mermaid\n",
    "sequenceDiagram\n",
    "  Client->>Server: send a request that names a document\n",
    "  Note right of Client: wait for a complete response \n",
    "  Server-->>Client: a response of an error or  the requested document \n",
    "```\n",
    "- the request and response use the same rules to establish formatting and framing\n",
    "- In HTTP/1.1, the client is not permitted to transmit a second request over the same socket until the response is finished\n",
    "\n",
    "\n",
    "🔭 Practice\n",
    "---\n",
    "- Run httpbin with docker\n",
    "  - Access http://localhost/ip with curl\n",
    "    ```bash\n",
    "    curl -v localhost/ip\n",
    "    ```\n",
    "- *Optional:* Explore HTTP request and response using \n",
    "  - [httpie](https://httpie.io/)\n",
    "    - [Install httpie](https://httpie.io/docs/cli/debian-and-ubuntu) then play with the examples\n",
    "  - or [http-prompt](https://http-prompt.com/)\n",
    "\n",
    "\n"
   ]
  },
  {
   "cell_type": "markdown",
   "id": "ddfe3021",
   "metadata": {},
   "source": [
    "HTTP message structure\n",
    "---\n",
    "- Both HTTP request and response are called a HTTP message\n",
    "- Each message is composed of three parts\n",
    "  - Each part consists of zero or more lines \n",
    "    - each line ends with a carriage return and linefeed (CRLF, ASCII codes 13 and 10)\n",
    "  1. A first line that names\n",
    "     - a method and document in the request\n",
    "     - a return code and description in the response\n",
    "  2. Zero or more lines represents header entries \n",
    "     - each entry consist of a name, a colon, and a value\n",
    "     - entry name is case-insensitive\n",
    "     - A *mandatory* blank line (CRLFCRLF) terminates the entire list of entries\n",
    "  3. An optional body\n",
    "     - There are several options for framing the body \n",
    "- No prior warning about how long the line and headers might be\n",
    "  - commonsense maximums are set on their length to avoid DoS attack\n",
    "\n"
   ]
  },
  {
   "cell_type": "markdown",
   "id": "4e29e8b2",
   "metadata": {},
   "source": [
    "Three framing options for the message body\n",
    "---\n",
    "1. *a Content-Length header entry with value of a decimal integer* specifies the length of the body in bytes similar to framing method **M5**.\n",
    "   - may not be feasible for data generated dynamically\n",
    "2. a header entry specifies *Transfer-Encoding of chunked* similar to framing method **M6**\n",
    "   - used to frame a body without knowing its length before hand\n",
    "   - separately delivered in smaller pieces each prefixed by its length in the format below in order\n",
    "     - a *hexadecimal* length field\n",
    "     - (optional $O_1$): a semicolon and extension option\n",
    "     - a line delimiter CRLF \n",
    "     - a block of data of the stated length \n",
    "     - again a line delimiter CRLF\n",
    "   - the last chunk has length 0 bytes without the block of data\n",
    "   - (optional $O_2$): a few last HTTP header entries if $O_1$ specified\n",
    "3. *Connection: close* specified by the server to send a body of arbitrary length then close the TCP socket"
   ]
  },
  {
   "cell_type": "markdown",
   "id": "b1936945-b7ad-4197-8a9d-e03da04342f7",
   "metadata": {},
   "source": [
    "Methods\n",
    "---\n"
   ]
  },
  {
   "cell_type": "markdown",
   "id": "386484cf-0967-42f3-bb29-45428f2f6fcb",
   "metadata": {},
   "source": [
    "Paths and Hosts\n",
    "---\n",
    "\n"
   ]
  },
  {
   "cell_type": "markdown",
   "id": "0f074a15-fdb6-494f-850b-a577171b2d47",
   "metadata": {},
   "source": [
    "Status Codes\n",
    "---\n"
   ]
  },
  {
   "cell_type": "markdown",
   "id": "f12e0c53-2b32-43e6-b1fa-3c2620ee3a30",
   "metadata": {},
   "source": [
    "Caching and Validation\n",
    "---\n"
   ]
  },
  {
   "cell_type": "markdown",
   "id": "3b7724f0-babd-43d3-96fc-db261f4a5aa7",
   "metadata": {},
   "source": [
    "Content Encoding\n",
    "---\n",
    "\n"
   ]
  },
  {
   "cell_type": "markdown",
   "id": "d4e9e0f1-098a-461a-a0ce-38b8d5a079d0",
   "metadata": {},
   "source": [
    "Content Negotiation\n",
    "---\n"
   ]
  },
  {
   "cell_type": "markdown",
   "id": "84344707-0423-4717-b022-4652595c66bd",
   "metadata": {},
   "source": [
    "Content Type\n",
    "---"
   ]
  },
  {
   "cell_type": "markdown",
   "id": "e9f15db2-e8bd-4543-a7d7-890b37849761",
   "metadata": {},
   "source": [
    "HTTP Authentication\n",
    "---"
   ]
  },
  {
   "cell_type": "markdown",
   "id": "64312846-f4ae-455d-8521-298088557c5d",
   "metadata": {},
   "source": [
    "Cookies\n",
    "---"
   ]
  },
  {
   "cell_type": "markdown",
   "id": "cfea0775-353f-4986-9ed0-feb185bd685a",
   "metadata": {},
   "source": [
    "Connections, Keep-Alive, and httplib\n",
    "---"
   ]
  },
  {
   "cell_type": "code",
   "execution_count": null,
   "id": "023e0745-e61f-4ba4-8a46-6e17a26b600f",
   "metadata": {},
   "outputs": [],
   "source": []
  }
 ],
 "metadata": {
  "kernelspec": {
   "display_name": "Python 3 (ipykernel)",
   "language": "python",
   "name": "python3"
  },
  "language_info": {
   "codemirror_mode": {
    "name": "ipython",
    "version": 3
   },
   "file_extension": ".py",
   "mimetype": "text/x-python",
   "name": "python",
   "nbconvert_exporter": "python",
   "pygments_lexer": "ipython3",
   "version": "3.11.6"
  }
 },
 "nbformat": 4,
 "nbformat_minor": 5
}

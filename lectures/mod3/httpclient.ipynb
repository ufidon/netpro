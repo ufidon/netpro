{
 "cells": [
  {
   "cell_type": "markdown",
   "id": "c9c016d7-820b-4265-9d64-69f158082b70",
   "metadata": {},
   "source": [
    "# HTTP clients\n",
    "FPNP3e ch9\n",
    "\n",
    "# References\n",
    "- [HTTP](https://en.wikipedia.org/wiki/HTTP)\n",
    "- [HTTP Documentation](https://httpwg.org/specs/)\n",
    "\n",
    "Objectives\n",
    "---\n",
    "- How to use the HTTP protocol from the perspective of a client\n",
    "  - fetch and cache documents\n",
    "  - submit queries or data to the server \n",
    "- HTTP version 1.1 defined in [RFCs 9110-9112](https://httpwg.org/specs/)\n",
    "  -  the most common version in use today\n",
    " \n",
    "Python Client Libraries\n",
    "---\n",
    "- [urllib](https://docs.python.org/3/library/urllib.html), built into PSL\n",
    "- [Requests](https://requests.readthedocs.io/en/latest/), a full-featured third-party solution\n",
    "- Their basic interfaces are quite similar\n",
    "    - a callable that opens an HTTP connection,\n",
    "    - makes a request, and waits for the response headers \n",
    "        - before returning a response object that presents them to the programmer\n",
    "    - The response body is left queued on the incoming socket\n",
    "        - and read only when the programmer asks\n",
    "- testbed website: [httpbin.org](http://httpbin.org/)\n",
    "  ```bash\n",
    "    # Host httpbin.org locally with Gunicorn\n",
    "    pip install gunicorn httpbin requests\n",
    "    gunicorn httpbin:app\n",
    "  ```"
   ]
  },
  {
   "cell_type": "code",
   "execution_count": 2,
   "id": "d008fae0-4fba-4300-a3b4-29b14002615e",
   "metadata": {},
   "outputs": [
    {
     "name": "stdout",
     "output_type": "stream",
     "text": [
      "{\n",
      "  \"headers\": {\n",
      "    \"Accept\": \"*/*\", \n",
      "    \"Accept-Encoding\": \"gzip, deflate, br\", \n",
      "    \"Host\": \"httpbin.org\", \n",
      "    \"User-Agent\": \"python-requests/2.31.0\", \n",
      "    \"X-Amzn-Trace-Id\": \"Root=1-651cbd48-452acd76538fd3e873c7dfe7\"\n",
      "  }\n",
      "}\n",
      "\n"
     ]
    }
   ],
   "source": [
    "# fetch httpbin with Requests\n",
    "import requests\n",
    "# r = requests.get('http://localhost:8000/headers')\n",
    "r = requests.get('http://httpbin.org/headers')\n",
    "print(r.text)"
   ]
  },
  {
   "cell_type": "code",
   "execution_count": 3,
   "id": "7e09adb2-4311-47e9-98a8-be1f58426530",
   "metadata": {
    "scrolled": true
   },
   "outputs": [
    {
     "name": "stdout",
     "output_type": "stream",
     "text": [
      "{\n",
      "  \"headers\": {\n",
      "    \"Accept-Encoding\": \"identity\", \n",
      "    \"Host\": \"httpbin.org\", \n",
      "    \"User-Agent\": \"Python-urllib/3.11\", \n",
      "    \"X-Amzn-Trace-Id\": \"Root=1-651cbd5d-02a364b737911b134bb37bc5\"\n",
      "  }\n",
      "}\n",
      "\n"
     ]
    }
   ],
   "source": [
    "# fetch httpbin with urllib\n",
    "from urllib.request import urlopen\n",
    "import urllib.error\n",
    "#r = urlopen('http://localhost:8000/headers')\n",
    "r = urlopen('http://httpbin.org/headers')\n",
    "print(r.read().decode('utf-8'))"
   ]
  },
  {
   "cell_type": "markdown",
   "id": "ab759f6e-545e-42ab-a705-985adcf79b36",
   "metadata": {},
   "source": [
    "Differences between urllib and Requests\n",
    "---\n",
    "| lib\\feature | supports gzip | determines correct decoding |\n",
    "| --- | --- | --- |\n",
    "| Requests | Y | Y |\n",
    "| urllib | N | N |"
   ]
  },
  {
   "cell_type": "markdown",
   "id": "80b05d4a-526a-4ff6-a101-c00242724dd3",
   "metadata": {},
   "source": [
    "- To go beyond the HTTP protocol to be more browser-like\n",
    "    - refer to related libraries such as *mechanize*\n",
    "- Here we focus on the HTTP protocol"
   ]
  },
  {
   "cell_type": "markdown",
   "id": "3ea3fa8e-64d3-461f-a005-e6d762343a36",
   "metadata": {},
   "source": [
    "Ports, Encryption, and Framing\n",
    "---"
   ]
  },
  {
   "cell_type": "markdown",
   "id": "b1936945-b7ad-4197-8a9d-e03da04342f7",
   "metadata": {},
   "source": [
    "Methods\n",
    "---\n"
   ]
  },
  {
   "cell_type": "markdown",
   "id": "386484cf-0967-42f3-bb29-45428f2f6fcb",
   "metadata": {},
   "source": [
    "Paths and Hosts\n",
    "---\n",
    "\n"
   ]
  },
  {
   "cell_type": "markdown",
   "id": "0f074a15-fdb6-494f-850b-a577171b2d47",
   "metadata": {},
   "source": [
    "Status Codes\n",
    "---\n"
   ]
  },
  {
   "cell_type": "markdown",
   "id": "f12e0c53-2b32-43e6-b1fa-3c2620ee3a30",
   "metadata": {},
   "source": [
    "Caching and Validation\n",
    "---\n"
   ]
  },
  {
   "cell_type": "markdown",
   "id": "3b7724f0-babd-43d3-96fc-db261f4a5aa7",
   "metadata": {},
   "source": [
    "Content Encoding\n",
    "---\n",
    "\n"
   ]
  },
  {
   "cell_type": "markdown",
   "id": "d4e9e0f1-098a-461a-a0ce-38b8d5a079d0",
   "metadata": {},
   "source": [
    "Content Negotiation\n",
    "---\n"
   ]
  },
  {
   "cell_type": "markdown",
   "id": "84344707-0423-4717-b022-4652595c66bd",
   "metadata": {},
   "source": [
    "Content Type\n",
    "---"
   ]
  },
  {
   "cell_type": "markdown",
   "id": "e9f15db2-e8bd-4543-a7d7-890b37849761",
   "metadata": {},
   "source": [
    "HTTP Authentication\n",
    "---"
   ]
  },
  {
   "cell_type": "markdown",
   "id": "64312846-f4ae-455d-8521-298088557c5d",
   "metadata": {},
   "source": [
    "Cookies\n",
    "---"
   ]
  },
  {
   "cell_type": "markdown",
   "id": "cfea0775-353f-4986-9ed0-feb185bd685a",
   "metadata": {},
   "source": [
    "Connections, Keep-Alive, and httplib\n",
    "---"
   ]
  },
  {
   "cell_type": "code",
   "execution_count": null,
   "id": "023e0745-e61f-4ba4-8a46-6e17a26b600f",
   "metadata": {},
   "outputs": [],
   "source": []
  }
 ],
 "metadata": {
  "kernelspec": {
   "display_name": "Python 3 (ipykernel)",
   "language": "python",
   "name": "python3"
  },
  "language_info": {
   "codemirror_mode": {
    "name": "ipython",
    "version": 3
   },
   "file_extension": ".py",
   "mimetype": "text/x-python",
   "name": "python",
   "nbconvert_exporter": "python",
   "pygments_lexer": "ipython3",
   "version": "3.11.5"
  }
 },
 "nbformat": 4,
 "nbformat_minor": 5
}

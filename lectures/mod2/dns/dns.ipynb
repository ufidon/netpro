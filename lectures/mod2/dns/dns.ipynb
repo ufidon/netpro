{
 "cells": [
  {
   "cell_type": "markdown",
   "id": "916169aa-a78e-4df0-b2af-1686b8b37606",
   "metadata": {},
   "source": [
    "| function | arguments | returns |\n",
    "| --- | --- | --- |\n",
    "| mysock.accept() | None | (socket object, address info) |"
   ]
  },
  {
   "cell_type": "markdown",
   "id": "0b2f7a43-9e3b-4853-a7d4-5e91fdbc5fa9",
   "metadata": {},
   "source": [
    "## Five socket coordinates"
   ]
  },
  {
   "cell_type": "code",
   "execution_count": 2,
   "id": "1115264e-775b-4c48-8024-e1e39d5b7d24",
   "metadata": {},
   "outputs": [
    {
     "data": {
      "text/plain": [
       "\u001b[0;31mInit signature:\u001b[0m \u001b[0msocket\u001b[0m\u001b[0;34m.\u001b[0m\u001b[0msocket\u001b[0m\u001b[0;34m(\u001b[0m\u001b[0mfamily\u001b[0m\u001b[0;34m=\u001b[0m\u001b[0;34m-\u001b[0m\u001b[0;36m1\u001b[0m\u001b[0;34m,\u001b[0m \u001b[0mtype\u001b[0m\u001b[0;34m=\u001b[0m\u001b[0;34m-\u001b[0m\u001b[0;36m1\u001b[0m\u001b[0;34m,\u001b[0m \u001b[0mproto\u001b[0m\u001b[0;34m=\u001b[0m\u001b[0;34m-\u001b[0m\u001b[0;36m1\u001b[0m\u001b[0;34m,\u001b[0m \u001b[0mfileno\u001b[0m\u001b[0;34m=\u001b[0m\u001b[0;32mNone\u001b[0m\u001b[0;34m)\u001b[0m\u001b[0;34m\u001b[0m\u001b[0;34m\u001b[0m\u001b[0m\n",
       "\u001b[0;31mDocstring:\u001b[0m      A subclass of _socket.socket adding the makefile() method.\n",
       "\u001b[0;31mFile:\u001b[0m           /opt/micromamba/lib/python3.11/socket.py\n",
       "\u001b[0;31mType:\u001b[0m           type\n",
       "\u001b[0;31mSubclasses:\u001b[0m     SSLSocket"
      ]
     },
     "metadata": {},
     "output_type": "display_data"
    }
   ],
   "source": [
    "import socket\n",
    "socket.socket?"
   ]
  },
  {
   "cell_type": "code",
   "execution_count": 11,
   "id": "1dd3e4a3-7741-4756-83d2-3d13355840f4",
   "metadata": {},
   "outputs": [],
   "source": [
    "import socket\n",
    "s = socket.socket(socket.AF_INET, socket.SOCK_DGRAM)\n",
    "s.bind(('localhost', 8000))"
   ]
  },
  {
   "cell_type": "markdown",
   "id": "b71ac0ce-ab24-4f66-bc13-c899415b6392",
   "metadata": {},
   "source": [
    "## IPv6"
   ]
  },
  {
   "cell_type": "code",
   "execution_count": 12,
   "id": "8b630d7c-1733-478e-af62-b6f4c1780ec3",
   "metadata": {},
   "outputs": [
    {
     "data": {
      "text/plain": [
       "True"
      ]
     },
     "execution_count": 12,
     "metadata": {},
     "output_type": "execute_result"
    }
   ],
   "source": [
    "socket.has_ipv6"
   ]
  },
  {
   "cell_type": "markdown",
   "id": "4980d232-6156-4c82-8015-51fe0cacd1ec",
   "metadata": {},
   "source": [
    "## Modern address resolution"
   ]
  },
  {
   "cell_type": "code",
   "execution_count": 13,
   "id": "56778b75-fcc6-48a1-9338-100f295f5d66",
   "metadata": {
    "scrolled": true
   },
   "outputs": [
    {
     "name": "stdout",
     "output_type": "stream",
     "text": [
      "[(<AddressFamily.AF_INET: 2>,\n",
      "  <SocketKind.SOCK_STREAM: 1>,\n",
      "  6,\n",
      "  '',\n",
      "  ('104.67.192.104', 80)),\n",
      " (<AddressFamily.AF_INET6: 10>,\n",
      "  <SocketKind.SOCK_STREAM: 1>,\n",
      "  6,\n",
      "  '',\n",
      "  ('2600:1402:b800:88c::255e', 80, 0, 0)),\n",
      " (<AddressFamily.AF_INET6: 10>,\n",
      "  <SocketKind.SOCK_STREAM: 1>,\n",
      "  6,\n",
      "  '',\n",
      "  ('2600:1402:b800:893::255e', 80, 0, 0))]\n"
     ]
    }
   ],
   "source": [
    "from pprint import pprint\n",
    "infolist = socket.getaddrinfo('mit.edu', 'www')\n",
    "pprint(infolist)"
   ]
  },
  {
   "cell_type": "code",
   "execution_count": 14,
   "id": "865b5ba0-cbcc-43bb-855c-7d5be88819f7",
   "metadata": {},
   "outputs": [
    {
     "data": {
      "text/plain": [
       "(<AddressFamily.AF_INET: 2>, <SocketKind.SOCK_STREAM: 1>, 6)"
      ]
     },
     "execution_count": 14,
     "metadata": {},
     "output_type": "execute_result"
    }
   ],
   "source": [
    "info = infolist[0]\n",
    "info[0:3]"
   ]
  },
  {
   "cell_type": "code",
   "execution_count": 15,
   "id": "d1e2f81e-24f4-458c-8625-60c7dca0486d",
   "metadata": {},
   "outputs": [
    {
     "data": {
      "text/plain": [
       "('104.67.192.104', 80)"
      ]
     },
     "execution_count": 15,
     "metadata": {},
     "output_type": "execute_result"
    }
   ],
   "source": [
    "s = socket.socket(*info[0:3])\n",
    "info[4]"
   ]
  },
  {
   "cell_type": "code",
   "execution_count": 16,
   "id": "dab0730d-3d53-44ba-95c6-f9f9e29e2439",
   "metadata": {},
   "outputs": [],
   "source": [
    "s.connect(info[4])"
   ]
  },
  {
   "cell_type": "markdown",
   "id": "dc214fce-80cd-46b9-9277-f53ea6cf3a4f",
   "metadata": {},
   "source": [
    "## Using getaddrinfo() to bind your server to a port"
   ]
  },
  {
   "cell_type": "code",
   "execution_count": 17,
   "id": "a05599c0-dbcc-419a-bc61-1ffda99800e4",
   "metadata": {
    "scrolled": true
   },
   "outputs": [
    {
     "data": {
      "text/plain": [
       "[(<AddressFamily.AF_INET: 2>,\n",
       "  <SocketKind.SOCK_STREAM: 1>,\n",
       "  6,\n",
       "  '',\n",
       "  ('0.0.0.0', 21)),\n",
       " (<AddressFamily.AF_INET6: 10>,\n",
       "  <SocketKind.SOCK_STREAM: 1>,\n",
       "  6,\n",
       "  '',\n",
       "  ('::', 21, 0, 0))]"
      ]
     },
     "execution_count": 17,
     "metadata": {},
     "output_type": "execute_result"
    }
   ],
   "source": [
    "socket.getaddrinfo(None, 'ftp', 0, socket.SOCK_STREAM, 0, socket.AI_PASSIVE)"
   ]
  },
  {
   "cell_type": "code",
   "execution_count": 18,
   "id": "41e9656f-bbaf-4f22-aac8-1da60a24df92",
   "metadata": {
    "scrolled": true
   },
   "outputs": [
    {
     "data": {
      "text/plain": [
       "[(<AddressFamily.AF_INET: 2>,\n",
       "  <SocketKind.SOCK_STREAM: 1>,\n",
       "  6,\n",
       "  '',\n",
       "  ('0.0.0.0', 21)),\n",
       " (<AddressFamily.AF_INET6: 10>,\n",
       "  <SocketKind.SOCK_STREAM: 1>,\n",
       "  6,\n",
       "  '',\n",
       "  ('::', 21, 0, 0))]"
      ]
     },
     "execution_count": 18,
     "metadata": {},
     "output_type": "execute_result"
    }
   ],
   "source": [
    "socket.getaddrinfo(None, '21', 0, socket.SOCK_STREAM, 0, socket.AI_PASSIVE)"
   ]
  },
  {
   "cell_type": "code",
   "execution_count": 21,
   "id": "0f036ce3-38f0-4e01-98cc-73f3e88d2b25",
   "metadata": {
    "scrolled": true
   },
   "outputs": [
    {
     "data": {
      "text/plain": [
       "[(<AddressFamily.AF_INET: 2>,\n",
       "  <SocketKind.SOCK_STREAM: 1>,\n",
       "  6,\n",
       "  '',\n",
       "  ('127.0.0.1', 21))]"
      ]
     },
     "execution_count": 21,
     "metadata": {},
     "output_type": "execute_result"
    }
   ],
   "source": [
    "socket.getaddrinfo('127.0.0.1', 'ftp', 0, socket.SOCK_STREAM, 0)"
   ]
  },
  {
   "cell_type": "code",
   "execution_count": 22,
   "id": "45ecd523-dcab-4772-b093-a8dbc3661150",
   "metadata": {
    "scrolled": true
   },
   "outputs": [
    {
     "data": {
      "text/plain": [
       "[(<AddressFamily.AF_INET: 2>,\n",
       "  <SocketKind.SOCK_STREAM: 1>,\n",
       "  6,\n",
       "  '',\n",
       "  ('127.0.0.1', 21))]"
      ]
     },
     "execution_count": 22,
     "metadata": {},
     "output_type": "execute_result"
    }
   ],
   "source": [
    "socket.getaddrinfo('localhost', 'ftp', 0, socket.SOCK_STREAM, 0)"
   ]
  },
  {
   "cell_type": "markdown",
   "id": "a0b49b51-e455-4d31-a193-526653672608",
   "metadata": {},
   "source": [
    "## Using getaddrinfo() to connect to a service"
   ]
  },
  {
   "cell_type": "code",
   "execution_count": 25,
   "id": "84f53765-4686-4660-801c-96d7cd9987e5",
   "metadata": {
    "scrolled": true
   },
   "outputs": [
    {
     "data": {
      "text/plain": [
       "[(<AddressFamily.AF_INET: 2>,\n",
       "  <SocketKind.SOCK_STREAM: 1>,\n",
       "  6,\n",
       "  '',\n",
       "  ('209.51.188.20', 21)),\n",
       " (<AddressFamily.AF_INET6: 10>,\n",
       "  <SocketKind.SOCK_STREAM: 1>,\n",
       "  6,\n",
       "  '',\n",
       "  ('2001:470:142:3::b', 21, 0, 0))]"
      ]
     },
     "execution_count": 25,
     "metadata": {},
     "output_type": "execute_result"
    }
   ],
   "source": [
    "socket.getaddrinfo('ftp.gnu.org', 'ftp', 0, socket.SOCK_STREAM, 0, socket.AI_ADDRCONFIG | socket.AI_V4MAPPED)"
   ]
  },
  {
   "cell_type": "code",
   "execution_count": 26,
   "id": "ae4e2a3c-3b27-4c01-9815-e368fc7aa7ec",
   "metadata": {
    "scrolled": true
   },
   "outputs": [
    {
     "data": {
      "text/plain": [
       "[(<AddressFamily.AF_INET: 2>,\n",
       "  <SocketKind.SOCK_STREAM: 1>,\n",
       "  6,\n",
       "  '',\n",
       "  ('192.0.43.8', 80)),\n",
       " (<AddressFamily.AF_INET6: 10>,\n",
       "  <SocketKind.SOCK_STREAM: 1>,\n",
       "  6,\n",
       "  '',\n",
       "  ('2001:500:88:200::8', 80, 0, 0))]"
      ]
     },
     "execution_count": 26,
     "metadata": {},
     "output_type": "execute_result"
    }
   ],
   "source": [
    "socket.getaddrinfo('iana.org', 'www', 0, socket.SOCK_STREAM, 0, socket.AI_ADDRCONFIG | socket.AI_V4MAPPED)"
   ]
  },
  {
   "cell_type": "code",
   "execution_count": 27,
   "id": "5684c321-3233-4128-95ca-c1a554a146ce",
   "metadata": {
    "scrolled": true
   },
   "outputs": [
    {
     "data": {
      "text/plain": [
       "[(<AddressFamily.AF_INET: 2>,\n",
       "  <SocketKind.SOCK_STREAM: 1>,\n",
       "  6,\n",
       "  '',\n",
       "  ('192.0.43.8', 80)),\n",
       " (<AddressFamily.AF_INET6: 10>,\n",
       "  <SocketKind.SOCK_STREAM: 1>,\n",
       "  6,\n",
       "  '',\n",
       "  ('2001:500:88:200::8', 80, 0, 0))]"
      ]
     },
     "execution_count": 27,
     "metadata": {},
     "output_type": "execute_result"
    }
   ],
   "source": [
    "socket.getaddrinfo('iana.org', 'www', 0, socket.SOCK_STREAM, 0)"
   ]
  },
  {
   "cell_type": "markdown",
   "id": "e02bfacc-c75a-4fa0-b81d-e04a5833695a",
   "metadata": {},
   "source": [
    "## Asking getaddrinfo() for a canonical hostname"
   ]
  },
  {
   "cell_type": "code",
   "execution_count": 28,
   "id": "fcd88cf4-7be6-41a4-8e0b-4b9a1e9a7dc8",
   "metadata": {
    "scrolled": true
   },
   "outputs": [
    {
     "data": {
      "text/plain": [
       "[(<AddressFamily.AF_INET: 2>,\n",
       "  <SocketKind.SOCK_STREAM: 1>,\n",
       "  6,\n",
       "  'iana.org',\n",
       "  ('192.0.43.8', 80)),\n",
       " (<AddressFamily.AF_INET6: 10>,\n",
       "  <SocketKind.SOCK_STREAM: 1>,\n",
       "  6,\n",
       "  '',\n",
       "  ('2001:500:88:200::8', 80, 0, 0))]"
      ]
     },
     "execution_count": 28,
     "metadata": {},
     "output_type": "execute_result"
    }
   ],
   "source": [
    "socket.getaddrinfo('iana.org', 'www', 0, socket.SOCK_STREAM, 0, socket.AI_ADDRCONFIG | socket.AI_V4MAPPED | socket.AI_CANONNAME)"
   ]
  },
  {
   "cell_type": "code",
   "execution_count": 32,
   "id": "e4738913-cdf8-4f1a-8f9d-9443abc9ad41",
   "metadata": {},
   "outputs": [
    {
     "data": {
      "text/plain": [
       "[(<AddressFamily.AF_INET: 2>,\n",
       "  <SocketKind.SOCK_STREAM: 1>,\n",
       "  6,\n",
       "  '192.0.43.8',\n",
       "  ('192.0.43.8', 80))]"
      ]
     },
     "execution_count": 32,
     "metadata": {},
     "output_type": "execute_result"
    }
   ],
   "source": [
    "mysock = socket.socket(socket.AF_INET, socket.SOCK_STREAM)\n",
    "mysock.connect(('iana.org', 80))\n",
    "addr, port = mysock.getpeername()\n",
    "socket.getaddrinfo(addr, port, mysock.family, mysock.type, mysock.proto, socket.AI_CANONNAME)"
   ]
  },
  {
   "cell_type": "code",
   "execution_count": 31,
   "id": "5c73f22b-0d8b-49e7-8747-0b6b2067bc74",
   "metadata": {},
   "outputs": [],
   "source": []
  },
  {
   "cell_type": "markdown",
   "id": "b7e61fdc-58a4-4b4f-ac04-7d51e1443743",
   "metadata": {},
   "source": [
    "## Other getaddrinfo() flags"
   ]
  },
  {
   "cell_type": "code",
   "execution_count": 1,
   "id": "19adc455-3bdd-49ca-aa61-54b3957e18d4",
   "metadata": {},
   "outputs": [
    {
     "data": {
      "text/plain": [
       "[(<AddressFamily.AF_INET: 2>,\n",
       "  <SocketKind.SOCK_STREAM: 1>,\n",
       "  6,\n",
       "  '',\n",
       "  ('218.241.105.10', 80))]"
      ]
     },
     "execution_count": 1,
     "metadata": {},
     "output_type": "execute_result"
    }
   ],
   "source": [
    "import socket\n",
    "socket.getaddrinfo('五粮液.中国', 'www', 0, socket.SOCK_STREAM, 0, socket.AI_ADDRCONFIG | socket.AI_V4MAPPED)"
   ]
  },
  {
   "cell_type": "code",
   "execution_count": 2,
   "id": "3bc70bac-28cc-4b7b-9d22-d2b10ad7a8b5",
   "metadata": {},
   "outputs": [
    {
     "data": {
      "text/plain": [
       "b'xn--dlq917e1ik.xn--fiqs8s'"
      ]
     },
     "execution_count": 2,
     "metadata": {},
     "output_type": "execute_result"
    }
   ],
   "source": [
    "'五粮液.中国'.encode('idna')"
   ]
  },
  {
   "cell_type": "markdown",
   "id": "12b37519-e8c4-4998-b507-727d2ebb6313",
   "metadata": {},
   "source": [
    "## Primitive name service routines\n",
    "- supported by the underlying OS\n",
    "- most work only with IPv4"
   ]
  },
  {
   "cell_type": "code",
   "execution_count": 3,
   "id": "71fb7638-166d-477a-9dcb-da0fcfa7b999",
   "metadata": {},
   "outputs": [
    {
     "data": {
      "text/plain": [
       "'142.250.189.142'"
      ]
     },
     "execution_count": 3,
     "metadata": {},
     "output_type": "execute_result"
    }
   ],
   "source": [
    "socket.gethostbyname('google.com')"
   ]
  },
  {
   "cell_type": "code",
   "execution_count": 4,
   "id": "8a352438-7758-4dbd-abb3-ad0deafdfb07",
   "metadata": {},
   "outputs": [
    {
     "data": {
      "text/plain": [
       "('mia09s26-in-f14.1e100.net', [], ['142.250.189.142'])"
      ]
     },
     "execution_count": 4,
     "metadata": {},
     "output_type": "execute_result"
    }
   ],
   "source": [
    "socket.gethostbyaddr('142.250.189.142')"
   ]
  },
  {
   "cell_type": "code",
   "execution_count": 6,
   "id": "882a9e32-0c47-4198-9d76-bcb9a212a873",
   "metadata": {},
   "outputs": [
    {
     "data": {
      "text/plain": [
       "6"
      ]
     },
     "execution_count": 6,
     "metadata": {},
     "output_type": "execute_result"
    }
   ],
   "source": [
    "socket.getprotobyname('TCP')"
   ]
  },
  {
   "cell_type": "code",
   "execution_count": 7,
   "id": "b09231f6-ff4c-44e7-9143-405f54c5b24d",
   "metadata": {},
   "outputs": [
    {
     "data": {
      "text/plain": [
       "25"
      ]
     },
     "execution_count": 7,
     "metadata": {},
     "output_type": "execute_result"
    }
   ],
   "source": [
    "socket.getservbyname('smtp')"
   ]
  },
  {
   "cell_type": "code",
   "execution_count": 8,
   "id": "e5e07796-082e-48be-b387-ea0ee6fdf0c4",
   "metadata": {},
   "outputs": [
    {
     "data": {
      "text/plain": [
       "'smtp'"
      ]
     },
     "execution_count": 8,
     "metadata": {},
     "output_type": "execute_result"
    }
   ],
   "source": [
    "socket.getservbyport(25)"
   ]
  },
  {
   "cell_type": "code",
   "execution_count": 9,
   "id": "4ad013e5-d49f-40da-83f1-794e15317737",
   "metadata": {},
   "outputs": [
    {
     "data": {
      "text/plain": [
       "'127.0.1.1'"
      ]
     },
     "execution_count": 9,
     "metadata": {},
     "output_type": "execute_result"
    }
   ],
   "source": [
    "socket.gethostbyname(socket.getfqdn())"
   ]
  },
  {
   "cell_type": "code",
   "execution_count": 1,
   "id": "694b5975-077b-4ad8-b42f-a2c41d4f8f44",
   "metadata": {},
   "outputs": [
    {
     "name": "stdout",
     "output_type": "stream",
     "text": [
      "Domain Name: python.org\n",
      "Registry Domain ID: 8182a33af4314b999853885eb16ef749-LROR\n",
      "Registrar WHOIS Server: http://whois.gandi.net\n",
      "Registrar URL: http://www.gandi.net\n",
      "Updated Date: 2023-06-25T20:20:44Z\n",
      "Creation Date: 1995-03-27T05:00:00Z\n",
      "Registry Expiry Date: 2033-03-28T05:00:00Z\n",
      "Registrar: Gandi SAS\n",
      "Registrar IANA ID: 81\n",
      "Registrar Abuse Contact Email: abuse@support.gandi.net\n",
      "Registrar Abuse Contact Phone: +33.170377661\n",
      "Domain Status: clientTransferProhibited https://icann.org/epp#clientTransferProhibited\n",
      "Registry Registrant ID: REDACTED FOR PRIVACY\n",
      "Registrant Name: REDACTED FOR PRIVACY\n",
      "Registrant Organization: Python Software Foundation\n",
      "Registrant Street: REDACTED FOR PRIVACY\n",
      "Registrant City: REDACTED FOR PRIVACY\n",
      "Registrant State/Province: OR\n",
      "Registrant Postal Code: REDACTED FOR PRIVACY\n",
      "Registrant Country: US\n",
      "Registrant Phone: REDACTED FOR PRIVACY\n",
      "Registrant Phone Ext: REDACTED FOR PRIVACY\n",
      "Registrant Fax: REDACTED FOR PRIVACY\n",
      "Registrant Fax Ext: REDACTED FOR PRIVACY\n",
      "Registrant Email: Please query the RDDS service of the Registrar of Record identified in this output for information on how to contact the Registrant, Admin, or Tech contact of the queried domain name.\n",
      "Registry Admin ID: REDACTED FOR PRIVACY\n",
      "Admin Name: REDACTED FOR PRIVACY\n",
      "Admin Organization: REDACTED FOR PRIVACY\n",
      "Admin Street: REDACTED FOR PRIVACY\n",
      "Admin City: REDACTED FOR PRIVACY\n",
      "Admin State/Province: REDACTED FOR PRIVACY\n",
      "Admin Postal Code: REDACTED FOR PRIVACY\n",
      "Admin Country: REDACTED FOR PRIVACY\n",
      "Admin Phone: REDACTED FOR PRIVACY\n",
      "Admin Phone Ext: REDACTED FOR PRIVACY\n",
      "Admin Fax: REDACTED FOR PRIVACY\n",
      "Admin Fax Ext: REDACTED FOR PRIVACY\n",
      "Admin Email: Please query the RDDS service of the Registrar of Record identified in this output for information on how to contact the Registrant, Admin, or Tech contact of the queried domain name.\n",
      "Registry Tech ID: REDACTED FOR PRIVACY\n",
      "Tech Name: REDACTED FOR PRIVACY\n",
      "Tech Organization: REDACTED FOR PRIVACY\n",
      "Tech Street: REDACTED FOR PRIVACY\n",
      "Tech City: REDACTED FOR PRIVACY\n",
      "Tech State/Province: REDACTED FOR PRIVACY\n",
      "Tech Postal Code: REDACTED FOR PRIVACY\n",
      "Tech Country: REDACTED FOR PRIVACY\n",
      "Tech Phone: REDACTED FOR PRIVACY\n",
      "Tech Phone Ext: REDACTED FOR PRIVACY\n",
      "Tech Fax: REDACTED FOR PRIVACY\n",
      "Tech Fax Ext: REDACTED FOR PRIVACY\n",
      "Tech Email: Please query the RDDS service of the Registrar of Record identified in this output for information on how to contact the Registrant, Admin, or Tech contact of the queried domain name.\n",
      "Name Server: ns-1134.awsdns-13.org\n",
      "Name Server: ns-2046.awsdns-63.co.uk\n",
      "Name Server: ns-484.awsdns-60.com\n",
      "Name Server: ns-981.awsdns-58.net\n",
      "DNSSEC: unsigned\n",
      "URL of the ICANN Whois Inaccuracy Complaint Form: https://www.icann.org/wicf/\n",
      ">>> Last update of WHOIS database: 2023-09-10T18:44:07Z <<<\n",
      "\n",
      "For more information on Whois status codes, please visit https://icann.org/epp\n",
      "\n",
      "Terms of Use: Access to Public Interest Registry WHOIS information is provided to assist persons in determining the contents of a domain name registration record in the Public Interest Registry registry database. The data in this record is provided by Public Interest Registry for informational purposes only, and Public Interest Registry does not guarantee its accuracy. This service is intended only for query-based access. You agree that you will use this data only for lawful purposes and that, under no circumstances will you use this data to (a) allow, enable, or otherwise support the transmission by e-mail, telephone, or facsimile of mass unsolicited, commercial advertising or solicitations to entities other than the data recipient's own existing customers; or (b) enable high volume, automated, electronic processes that send queries or data to the systems of Registry Operator, a Registrar, or Identity Digital except as reasonably necessary to register domain names or modify existing registrations. All rights reserved. Public Interest Registry reserves the right to modify these terms at any time. By submitting this query, you agree to abide by this policy.  The Registrar of Record identified in this output may have an RDDS service that can be queried for additional information on how to contact the Registrant, Admin, or Tech contact of the queried domain name.\n"
     ]
    }
   ],
   "source": [
    "!whois python.org"
   ]
  },
  {
   "cell_type": "markdown",
   "id": "6dca32e0-1d58-490a-96f9-4b79defe7e8a",
   "metadata": {},
   "source": [
    "## Using getsockaddr() in your own code\n",
    "- a [web service finder](./www_ping.py)\n",
    "  ```bash\n",
    "  python3 www_ping.py mit.edu\n",
    "  python3 www_ping.py smtp.google.com\n",
    "  python3 www_ping.py no-such-host.com\n",
    "  ```"
   ]
  },
  {
   "cell_type": "markdown",
   "id": "0ba1ff7d-79ad-48f5-b333-bcb336a0cc38",
   "metadata": {},
   "source": [
    "## Why not to use raw DNS\n",
    "- There are ways other than DNS to get name information\n",
    "- The needed name information may reside in the local DNS cache\n",
    "- The local domain server is aleady configured manually by administrators or automatically by DHCP\n",
    "- Local DNS server serves faster\n",
    "- DNS infrastructure is handled by the OS libraries or"
   ]
  },
  {
   "cell_type": "markdown",
   "id": "e73b0884-bf4e-4755-8f48-21aa082eff6a",
   "metadata": {},
   "source": [
    "## Making a DNS query from Python\n",
    "- Install dnspython3\n",
    "  ```bash\n",
    "  pip install dnspython3\n",
    "  ```\n",
    "- A simple [DNS querier](./dns_basic.py)\n",
    "  ```bash\n",
    "  python3 dns_basic.py python.org\n",
    "  ```\n",
    "  "
   ]
  },
  {
   "cell_type": "markdown",
   "id": "a87e5490-bb6d-40b1-bd54-0a8d2bf6729b",
   "metadata": {},
   "source": [
    "## Resolving mail domains\n",
    "- a legitimate use of raw DNS\n",
    "- the rule of resolution specified in RFC 5321\n",
    "- trying order:\n",
    "  - MX records from lowest to highest priority\n",
    "  - A or AAAA records if no MX records\n",
    "  - domain name if CNAME is specified and no previous two types of records\n",
    "- An [email resolver](./dns_mx.py)\n",
    "  ```bash\n",
    "  python3 dns_mx.py python.org\n",
    "  python3 dns_mx.py iana.org\n",
    "  ```"
   ]
  },
  {
   "cell_type": "code",
   "execution_count": null,
   "id": "145ee7be-9986-4d81-98f1-7f61e349e729",
   "metadata": {},
   "outputs": [],
   "source": []
  }
 ],
 "metadata": {
  "kernelspec": {
   "display_name": "Python 3 (ipykernel)",
   "language": "python",
   "name": "python3"
  },
  "language_info": {
   "codemirror_mode": {
    "name": "ipython",
    "version": 3
   },
   "file_extension": ".py",
   "mimetype": "text/x-python",
   "name": "python",
   "nbconvert_exporter": "python",
   "pygments_lexer": "ipython3",
   "version": "3.11.5"
  }
 },
 "nbformat": 4,
 "nbformat_minor": 5
}

{
 "cells": [
  {
   "cell_type": "markdown",
   "id": "9a64747c-1251-4bd7-9693-e944edf548ec",
   "metadata": {},
   "source": [
    "# Network data and network errors"
   ]
  },
  {
   "cell_type": "markdown",
   "id": "69fcc230-0df3-4b58-81d1-7153d3179187",
   "metadata": {},
   "source": [
    "## Bytes and strings"
   ]
  },
  {
   "cell_type": "code",
   "execution_count": 1,
   "id": "87328591-b771-4ab9-86f0-5d1a57e7f527",
   "metadata": {},
   "outputs": [
    {
     "data": {
      "text/plain": [
       "True"
      ]
     },
     "execution_count": 1,
     "metadata": {},
     "output_type": "execute_result"
    }
   ],
   "source": [
    "# 98 represented in different numerical systems\n",
    "98 == 0b1100010 == 0o142 == 0x62"
   ]
  },
  {
   "cell_type": "code",
   "execution_count": 5,
   "id": "08e06b5c-00fa-4ec2-a99d-98684568f035",
   "metadata": {},
   "outputs": [
    {
     "data": {
      "text/plain": [
       "(b'\\x00\\x0b\\x16!co\\xde\\xff', 8, bytes, '!', 'c', 'o')"
      ]
     },
     "execution_count": 5,
     "metadata": {},
     "output_type": "execute_result"
    }
   ],
   "source": [
    "#  a list of numbers -> bytes\n",
    "b = bytes([0,11,22,33,99,111,222,255])\n",
    "b, len(b), type(b), chr(33),chr(99),chr(111)"
   ]
  },
  {
   "cell_type": "code",
   "execution_count": 6,
   "id": "928dab51-26a8-4d5d-9542-48753df2c993",
   "metadata": {},
   "outputs": [
    {
     "data": {
      "text/plain": [
       "[0, 11, 22, 33, 99, 111, 222, 255]"
      ]
     },
     "execution_count": 6,
     "metadata": {},
     "output_type": "execute_result"
    }
   ],
   "source": [
    "list(b)"
   ]
  },
  {
   "cell_type": "markdown",
   "id": "6431122a-2327-4881-b163-335613090b12",
   "metadata": {},
   "source": [
    "## Character strings"
   ]
  },
  {
   "cell_type": "code",
   "execution_count": 8,
   "id": "76b63147-eafb-4ba7-a0eb-09b031bfeb29",
   "metadata": {},
   "outputs": [
    {
     "name": "stdout",
     "output_type": "stream",
     "text": [
      "  ! \" # $ % & ' ( ) * + , - . / 0 1 2 3 4 5 6 7 8 9 : ; < = > ?\n",
      "@ A B C D E F G H I J K L M N O P Q R S T U V W X Y Z [ \\ ] ^ _\n",
      "` a b c d e f g h i j k l m n o p q r s t u v w x y z { | } ~ \n"
     ]
    }
   ],
   "source": [
    "for i in range(32,128,32):\n",
    "    print(' '.join(chr(j) for j in range(i, i+32)))"
   ]
  },
  {
   "cell_type": "markdown",
   "id": "e0969eaf-422b-4318-b767-92af94a87d9d",
   "metadata": {},
   "source": [
    "- Encoding: string -> bytes\n",
    "- Decoding: bytes -> string\n",
    "- Further info: [codecs — Codec registry and base classes](https://docs.python.org/3/library/codecs.html)"
   ]
  },
  {
   "cell_type": "code",
   "execution_count": 10,
   "id": "781fa31a-01d9-4c4e-a776-108f30dc1968",
   "metadata": {},
   "outputs": [
    {
     "data": {
      "text/plain": [
       "b'\\xe5\\x92\\x8c\\xe5\\xb9\\xb3\\xe4\\xb8\\x87\\xe5\\xb2\\x81\\xef\\xbc\\x81'"
      ]
     },
     "execution_count": 10,
     "metadata": {},
     "output_type": "execute_result"
    }
   ],
   "source": [
    "mybytes = '和平万岁！'.encode('utf-8')\n",
    "mybytes"
   ]
  },
  {
   "cell_type": "code",
   "execution_count": 11,
   "id": "2e381d54-b67c-47e8-8752-bf6e2d197178",
   "metadata": {},
   "outputs": [
    {
     "data": {
      "text/plain": [
       "'å\\x92\\x8cå¹³ä¸\\x87å²\\x81ï¼\\x81'"
      ]
     },
     "execution_count": 11,
     "metadata": {},
     "output_type": "execute_result"
    }
   ],
   "source": [
    "mybytes.decode('latin1')"
   ]
  },
  {
   "cell_type": "code",
   "execution_count": 12,
   "id": "3d2edf8e-1cad-4a80-bef4-f00748bb548c",
   "metadata": {},
   "outputs": [
    {
     "data": {
      "text/plain": [
       "'ĺ\\x92\\x8cĺšłä¸\\x87ĺ˛\\x81ďź\\x81'"
      ]
     },
     "execution_count": 12,
     "metadata": {},
     "output_type": "execute_result"
    }
   ],
   "source": [
    "mybytes.decode('latin2')"
   ]
  },
  {
   "cell_type": "code",
   "execution_count": 13,
   "id": "e64244c2-8aa6-4bef-976b-79011ee6947a",
   "metadata": {},
   "outputs": [
    {
     "data": {
      "text/plain": [
       "'ε\\x92\\x8cεΉ³δΈ\\x87ε²\\x81οΌ\\x81'"
      ]
     },
     "execution_count": 13,
     "metadata": {},
     "output_type": "execute_result"
    }
   ],
   "source": [
    "mybytes.decode('greek')"
   ]
  },
  {
   "cell_type": "code",
   "execution_count": 14,
   "id": "f75caef1-fa40-4aad-bf08-a839764f9954",
   "metadata": {},
   "outputs": [
    {
     "data": {
      "text/plain": [
       "'ו\\x92\\x8cו¹³ה¸\\x87ו²\\x81ן¼\\x81'"
      ]
     },
     "execution_count": 14,
     "metadata": {},
     "output_type": "execute_result"
    }
   ],
   "source": [
    "mybytes.decode('hebrew')"
   ]
  },
  {
   "cell_type": "code",
   "execution_count": 15,
   "id": "f2782b98-b380-41f7-b7ab-4ac84825946d",
   "metadata": {},
   "outputs": [
    {
     "data": {
      "text/plain": [
       "'和平万岁！'"
      ]
     },
     "execution_count": 15,
     "metadata": {},
     "output_type": "execute_result"
    }
   ],
   "source": [
    "mybytes.decode('utf-8')"
   ]
  },
  {
   "cell_type": "code",
   "execution_count": 16,
   "id": "a7143c90-28be-4487-9152-409313750b53",
   "metadata": {},
   "outputs": [
    {
     "data": {
      "text/plain": [
       "b'\\xff\\xfe\\x8cTs^\\x07N\\x81\\\\\\x01\\xff'"
      ]
     },
     "execution_count": 16,
     "metadata": {},
     "output_type": "execute_result"
    }
   ],
   "source": [
    "'和平万岁！'.encode('utf-16')"
   ]
  },
  {
   "cell_type": "code",
   "execution_count": 17,
   "id": "7a7cae78-848a-4fa0-aeaa-b0b2e6024efc",
   "metadata": {},
   "outputs": [
    {
     "data": {
      "text/plain": [
       "b'\\xff\\xfe\\x00\\x00\\x8cT\\x00\\x00s^\\x00\\x00\\x07N\\x00\\x00\\x81\\\\\\x00\\x00\\x01\\xff\\x00\\x00'"
      ]
     },
     "execution_count": 17,
     "metadata": {},
     "output_type": "execute_result"
    }
   ],
   "source": [
    "'和平万岁！'.encode('utf-32')"
   ]
  },
  {
   "cell_type": "code",
   "execution_count": 18,
   "id": "6693628c-1f75-47ec-af34-9f8ab0f8ea4a",
   "metadata": {},
   "outputs": [
    {
     "ename": "UnicodeDecodeError",
     "evalue": "'ascii' codec can't decode byte 0xe5 in position 0: ordinal not in range(128)",
     "output_type": "error",
     "traceback": [
      "\u001b[0;31m---------------------------------------------------------------------------\u001b[0m",
      "\u001b[0;31mUnicodeDecodeError\u001b[0m                        Traceback (most recent call last)",
      "Cell \u001b[0;32mIn[18], line 1\u001b[0m\n\u001b[0;32m----> 1\u001b[0m \u001b[43mmybytes\u001b[49m\u001b[38;5;241;43m.\u001b[39;49m\u001b[43mdecode\u001b[49m\u001b[43m(\u001b[49m\u001b[38;5;124;43m'\u001b[39;49m\u001b[38;5;124;43mascii\u001b[39;49m\u001b[38;5;124;43m'\u001b[39;49m\u001b[43m)\u001b[49m\n",
      "\u001b[0;31mUnicodeDecodeError\u001b[0m: 'ascii' codec can't decode byte 0xe5 in position 0: ordinal not in range(128)"
     ]
    }
   ],
   "source": [
    "mybytes.decode('ascii')"
   ]
  },
  {
   "cell_type": "code",
   "execution_count": 19,
   "id": "427edd82-5398-4ec0-ae9b-8fe3611382aa",
   "metadata": {},
   "outputs": [
    {
     "ename": "UnicodeEncodeError",
     "evalue": "'latin-1' codec can't encode characters in position 0-5: ordinal not in range(256)",
     "output_type": "error",
     "traceback": [
      "\u001b[0;31m---------------------------------------------------------------------------\u001b[0m",
      "\u001b[0;31mUnicodeEncodeError\u001b[0m                        Traceback (most recent call last)",
      "Cell \u001b[0;32mIn[19], line 1\u001b[0m\n\u001b[0;32m----> 1\u001b[0m \u001b[38;5;124;43m'\u001b[39;49m\u001b[38;5;124;43mΛλΘθΩω\u001b[39;49m\u001b[38;5;124;43m'\u001b[39;49m\u001b[38;5;241;43m.\u001b[39;49m\u001b[43mencode\u001b[49m\u001b[43m(\u001b[49m\u001b[38;5;124;43m'\u001b[39;49m\u001b[38;5;124;43mlatin-1\u001b[39;49m\u001b[38;5;124;43m'\u001b[39;49m\u001b[43m)\u001b[49m\n",
      "\u001b[0;31mUnicodeEncodeError\u001b[0m: 'latin-1' codec can't encode characters in position 0-5: ordinal not in range(256)"
     ]
    }
   ],
   "source": [
    "'ΛλΘθΩω'.encode('latin-1')"
   ]
  },
  {
   "cell_type": "code",
   "execution_count": 20,
   "id": "2f71825e-d655-43d0-9f24-d35cf96d30f5",
   "metadata": {},
   "outputs": [
    {
     "data": {
      "text/plain": [
       "'���������������'"
      ]
     },
     "execution_count": 20,
     "metadata": {},
     "output_type": "execute_result"
    }
   ],
   "source": [
    "mybytes.decode('ascii', 'replace')"
   ]
  },
  {
   "cell_type": "code",
   "execution_count": 21,
   "id": "822d3ac2-9a5b-4f14-9082-eeefd816145e",
   "metadata": {},
   "outputs": [
    {
     "data": {
      "text/plain": [
       "''"
      ]
     },
     "execution_count": 21,
     "metadata": {},
     "output_type": "execute_result"
    }
   ],
   "source": [
    "mybytes.decode('ascii', 'ignore')"
   ]
  },
  {
   "cell_type": "code",
   "execution_count": 22,
   "id": "470b3561-f8dd-4f9d-ae3d-f3d59195b57d",
   "metadata": {},
   "outputs": [
    {
     "data": {
      "text/plain": [
       "b'??????'"
      ]
     },
     "execution_count": 22,
     "metadata": {},
     "output_type": "execute_result"
    }
   ],
   "source": [
    "'ΛλΘθΩω'.encode('latin-1', 'replace')"
   ]
  },
  {
   "cell_type": "code",
   "execution_count": 23,
   "id": "021be642-591c-4dc2-8a67-ee9cb095cbd3",
   "metadata": {},
   "outputs": [
    {
     "data": {
      "text/plain": [
       "b''"
      ]
     },
     "execution_count": 23,
     "metadata": {},
     "output_type": "execute_result"
    }
   ],
   "source": [
    "'ΛλΘθΩω'.encode('latin-1', 'ignore')"
   ]
  },
  {
   "cell_type": "markdown",
   "id": "cebf4c6e-8151-4756-a09f-18537c782022",
   "metadata": {},
   "source": [
    "## Binary numbers and network byte order"
   ]
  },
  {
   "cell_type": "code",
   "execution_count": 28,
   "id": "24ec9cef-0506-4783-9348-fe8d1d8e6b75",
   "metadata": {},
   "outputs": [
    {
     "data": {
      "text/plain": [
       "b'\\xef\\xcd\\xab\\x12'"
      ]
     },
     "execution_count": 28,
     "metadata": {},
     "output_type": "execute_result"
    }
   ],
   "source": [
    "import struct\n",
    "struct.pack('<i', 0x12abcdef) # little endian"
   ]
  },
  {
   "cell_type": "code",
   "execution_count": 29,
   "id": "41b6657d-21f8-4fe2-b2c0-aeabb861b451",
   "metadata": {},
   "outputs": [
    {
     "data": {
      "text/plain": [
       "b'\\x12\\xab\\xcd\\xef'"
      ]
     },
     "execution_count": 29,
     "metadata": {},
     "output_type": "execute_result"
    }
   ],
   "source": [
    "struct.pack('>i',0x12abcdef) # big endian"
   ]
  },
  {
   "cell_type": "code",
   "execution_count": 34,
   "id": "872bb477-e03a-41aa-8e6e-71754dc8ef19",
   "metadata": {},
   "outputs": [
    {
     "data": {
      "text/plain": [
       "(313249263,)"
      ]
     },
     "execution_count": 34,
     "metadata": {},
     "output_type": "execute_result"
    }
   ],
   "source": [
    "struct.unpack('>i',b'\\x12\\xab\\xcd\\xef')"
   ]
  },
  {
   "cell_type": "code",
   "execution_count": 35,
   "id": "adcd3028-d2a1-48a9-860e-5abad1c2c6f4",
   "metadata": {},
   "outputs": [
    {
     "data": {
      "text/plain": [
       "'0x12abcdef'"
      ]
     },
     "execution_count": 35,
     "metadata": {},
     "output_type": "execute_result"
    }
   ],
   "source": [
    "hex(313249263)"
   ]
  },
  {
   "cell_type": "code",
   "execution_count": 36,
   "id": "d86a9f95-4930-4938-8d1a-a3b43b67680c",
   "metadata": {},
   "outputs": [
    {
     "data": {
      "text/plain": [
       "b'\\x12\\xab\\xcd\\xef'"
      ]
     },
     "execution_count": 36,
     "metadata": {},
     "output_type": "execute_result"
    }
   ],
   "source": [
    "struct.pack('!i',0x12abcdef) # network order"
   ]
  },
  {
   "cell_type": "markdown",
   "id": "eef5324b",
   "metadata": {},
   "source": [
    "## Python `bytes` and `bytearray`\n",
    "- `bytes` and `bytearray` are fundamental types in Python for handling `binary data`.\n",
    "- Both represent `sequences of bytes`, but they `differ in mutability`.\n",
    "- Used in various applications like file I/O, network communication, and data processing.\n",
    "\n",
    "---\n",
    "\n",
    "### **Basic Comparison**\n",
    "| **Feature**        | **`bytes`**               | **`bytearray`**           |\n",
    "|--------------------|--------------------------|---------------------------|\n",
    "| **Mutability**     | Immutable                 | Mutable                    |\n",
    "| **Usage**          | When data should not change | When data needs modification |\n",
    "| **Memory Efficiency** | More efficient for immutable data | Less efficient but flexible |\n",
    "| **Methods Available** | Most string methods      | Most string methods, plus mutation methods |\n",
    "\n",
    "---\n",
    "\n",
    "### **Creation Methods**\n",
    "| **Creation Method** | **`bytes`**               | **`bytearray`**           |\n",
    "|--------------------|--------------------------|---------------------------|\n",
    "| **From String**    | `bytes('string', 'encoding')` | `bytearray('string', 'encoding')` |\n",
    "| **From List of Integers** | `bytes([65, 66, 67])` | `bytearray([65, 66, 67])` |\n",
    "| **From Existing Byte Data** | `b = b'Hello'` | `ba = bytearray(b'Hello')` |"
   ]
  },
  {
   "cell_type": "code",
   "execution_count": 9,
   "id": "a668079d",
   "metadata": {},
   "outputs": [
    {
     "name": "stdout",
     "output_type": "stream",
     "text": [
      "b'Hello'\n",
      "bytearray(b'ABC')\n"
     ]
    }
   ],
   "source": [
    "# 🍎\n",
    "b = bytes('Hello', 'utf-8')\n",
    "ba = bytearray([65, 66, 67])\n",
    "print(b)  # Output: b'Hello'\n",
    "print(ba)  # Output: bytearray(b'ABC')"
   ]
  },
  {
   "cell_type": "markdown",
   "id": "fff84d6d",
   "metadata": {},
   "source": [
    "### **Common Operations**\n",
    "| **Operation**      | **`bytes`**               | **`bytearray`**           |\n",
    "|--------------------|--------------------------|---------------------------|\n",
    "| **Indexing**       | `b[0]`                    | `ba[0]`                    |\n",
    "| **Slicing**        | `b[1:4]`                  | `ba[1:4]`                  |\n",
    "| **Concatenation**  | `b1 + b2`                 | `ba1 + ba2`                |\n",
    "| **Repetition**     | `b * 2`                   | `ba * 2`                   |\n",
    "| **Membership Test** | `72 in b`                | `72 in ba`                 |"
   ]
  },
  {
   "cell_type": "code",
   "execution_count": 10,
   "id": "718a1c59",
   "metadata": {},
   "outputs": [
    {
     "name": "stdout",
     "output_type": "stream",
     "text": [
      "b'Hello, World!'\n",
      "bytearray(b'Hello, World!')\n",
      "b'Hello, World!Hello, World!'\n",
      "bytearray(b'Hello, World!Hello, World!')\n"
     ]
    }
   ],
   "source": [
    "# 🍎\n",
    "\n",
    "b1 = b'Hello, '\n",
    "b2 = b'World!'\n",
    "ba1 = bytearray(b'Hello, ')\n",
    "ba2 = bytearray(b'World!')\n",
    "\n",
    "b = b1 + b2  # Concatenation\n",
    "ba = ba1 + ba2  # Concatenation\n",
    "print(b)  # Output: b'Hello, World!'\n",
    "print(ba)  # Output: bytearray(b'Hello, World!')\n",
    "\n",
    "b3 = b * 2  # Repetition\n",
    "ba3 = ba * 2  # Repetition\n",
    "print(b3)  # Output: b'Hello, World!Hello, World!'\n",
    "print(ba3)  # Output: bytearray(b'Hello, World!Hello, World!')"
   ]
  },
  {
   "cell_type": "markdown",
   "id": "0ea178b6",
   "metadata": {},
   "source": [
    "### **Methods Comparison**\n",
    "| **Method**         | **`bytes`**               | **`bytearray`**           |\n",
    "|--------------------|--------------------------|---------------------------|\n",
    "| **`.decode()`**    | Yes                       | Yes                       |\n",
    "| **`.find()`**      | Yes                       | Yes                       |\n",
    "| **`.split()`**     | Yes                       | Yes                       |\n",
    "| **`.append()`**    | No                        | Yes                       |\n",
    "| **`.extend()`**    | No                        | Yes                       |\n",
    "| **`.pop()`**       | No                        | Yes                       |"
   ]
  },
  {
   "cell_type": "code",
   "execution_count": 11,
   "id": "e10c1e0d",
   "metadata": {},
   "outputs": [
    {
     "name": "stdout",
     "output_type": "stream",
     "text": [
      "bytearray(b'Hello!')\n"
     ]
    }
   ],
   "source": [
    "# 🍎\n",
    "ba = bytearray(b'Hello')\n",
    "ba.append(33)  # Appends '!'\n",
    "print(ba)  # Output: bytearray(b'Hello!')"
   ]
  },
  {
   "cell_type": "markdown",
   "id": "e549d168",
   "metadata": {},
   "source": [
    "# 🍎 Practical Use Case: Network Communication\n",
    "| **Scenario**       | **`bytes`**               | **`bytearray`**           |\n",
    "|--------------------|--------------------------|---------------------------|\n",
    "| **Sending Data**   | Yes                       | Yes                       |\n",
    "| **Receiving Data** | Yes                       | Yes                       |\n",
    "| **Modifying Received Data** | No                | Yes                       |"
   ]
  },
  {
   "cell_type": "code",
   "execution_count": null,
   "id": "45fd2a30",
   "metadata": {},
   "outputs": [],
   "source": [
    "# put the code into a python file then run it\n",
    "# Don't run it from here!\n",
    "import socket\n",
    "\n",
    "# Server\n",
    "server = socket.socket(socket.AF_INET, socket.SOCK_STREAM)\n",
    "server.bind(('localhost', 8080))\n",
    "server.listen(1)\n",
    "conn, addr = server.accept()\n",
    "data = conn.recv(1024)  # Receives data as bytes\n",
    "print(data)\n",
    "conn.sendall(b'Hello, Client!')"
   ]
  },
  {
   "cell_type": "code",
   "execution_count": 13,
   "id": "eb604b44",
   "metadata": {},
   "outputs": [
    {
     "name": "stdout",
     "output_type": "stream",
     "text": [
      "b'Hello, Client!'\n"
     ]
    }
   ],
   "source": [
    "import socket\n",
    "\n",
    "# Client\n",
    "client = socket.socket(socket.AF_INET, socket.SOCK_STREAM)\n",
    "client.connect(('localhost', 8888))\n",
    "client.sendall(b'Hello, Server!')\n",
    "data = client.recv(1024)\n",
    "print(data)"
   ]
  },
  {
   "cell_type": "markdown",
   "id": "ff23d8fd",
   "metadata": {},
   "source": [
    "### **Summary**\n",
    "| **Feature**        | **`bytes`**               | **`bytearray`**           |\n",
    "|--------------------|--------------------------|---------------------------|\n",
    "| **Mutability**     | Immutable                 | Mutable                    |\n",
    "| **Common Use**     | Read-only binary data     | Modifiable binary data     |\n",
    "| **Typical Use Cases** | File I/O, network protocols | Network communication, byte-level data manipulation |\n",
    "\n",
    "- **Key Takeaway**:\n",
    "  - Choose `bytes` when immutability is desired.\n",
    "  - Choose `bytearray` when you need to modify the data.\n",
    "  - 🔗 Official Python Documentation: [bytes](https://docs.python.org/3/library/stdtypes.html#bytes), [bytearray](https://docs.python.org/3/library/stdtypes.html#bytearray)\n"
   ]
  },
  {
   "cell_type": "markdown",
   "id": "8678334d",
   "metadata": {},
   "source": [
    "## Python [`struct`](https://docs.python.org/3/library/struct.html)\n",
    "\n",
    "### **The `struct` Module**\n",
    "- The `struct` module in Python is used for working with binary data.\n",
    "- It provides functions to convert between Python values and C structs represented as Python bytes objects.\n",
    "- Useful for reading and writing binary files, network protocols, and data serialization.\n",
    "\n",
    "---\n",
    "\n",
    "### **Basic Concepts**\n",
    "- **Packing**: Converting Python values into binary data.\n",
    "- **Unpacking**: Converting binary data back into Python values.\n",
    "- **Format Strings**: Describe the layout of the data when packing/unpacking.\n",
    "  - Examples: `i` for integer, `f` for float, `s` for string.\n",
    "- **Endianness**: Defines the byte order in which data is stored. \n",
    "  - `>` for big-endian, `<` for little-endian.\n",
    "\n",
    "---\n",
    "\n",
    "### **Format Strings**\n",
    "\n",
    "- **Format**: `[<endian-flag>][integer]<type-codes>`\n",
    "  - **Endian-flag** (optional): Specifies the byte order, size, and alignment.\n",
    "  - **Integer** (optional): Repeats the type-code this many times.\n",
    "  - **Type-codes**: Defines the type of data to be packed/unpacked.\n",
    "- **Endian Flags and Their Meanings**\n",
    "\n",
    "| **Flag** | **Description**                  | **Byte Order**  | **Size** | **Alignment**      |\n",
    "|----------|----------------------------------|-----------------|---------| ------------------|\n",
    "| `@`      | Native                            | Host’s native   | Native  | Native   |\n",
    "| `=`      | Native                            | Host’s native   | Standard | None |\n",
    "| `<`      | Little-endian                     | Little-endian   | Standard | None |\n",
    "| `>`      | Big-endian                        | Big-endian      | Standard | None |\n",
    "| `!`      | Network (Big-endian)              | Big-endian      | Standard | None |\n",
    "\n",
    "- **Example Format String**:\n",
    "- **`>4sI`**\n",
    "  - `>`: Big-endian\n",
    "  - `4s`: 4-byte string\n",
    "  - `I`: Unsigned int (4 bytes)\n",
    "\n",
    "---\n",
    "\n",
    "## Type codes\n",
    "\n",
    "| Format | C Type | Python Type | Standard Size (bytes) | \n",
    "|---|---|---|---|\n",
    "| x | pad byte | no value |  |\n",
    "| c | char | bytes of length 1 | 1 | \n",
    "| b | signed char | integer | 1 |\n",
    "| B | unsigned char | integer | 1 |\n",
    "| ? | _Bool | bool | 1 |\n",
    "| h | short | integer | 2 | \n",
    "| H | unsigned short | integer | 2 |\n",
    "| i | int | integer | 4 | (2) |\n",
    "| I | unsigned int | integer | 4 | \n",
    "| l | long | integer | 4 | (2) |\n",
    "| L | unsigned long | integer | 4 | \n",
    "| q | long long | integer | 8 |\n",
    "| Q | unsigned long long | integer | 8 |\n",
    "| n | ssize_t | integer |  |\n",
    "| N | size_t | integer |  | |\n",
    "| e | | float | 2 | \n",
    "| f | float | float | 4 | \n",
    "| d | double | float | 8 |\n",
    "| s | char[] | bytes |  |\n",
    "| p | char[] | bytes |  |\n",
    "| P | void* | integer |  |\n"
   ]
  },
  {
   "cell_type": "code",
   "execution_count": 1,
   "id": "0d79fbc5",
   "metadata": {},
   "outputs": [
    {
     "name": "stdout",
     "output_type": "stream",
     "text": [
      "Packed Data: b'\\x00\\x00\\x04\\x00ABCD'\n",
      "Unpacked Data: (1024, b'ABCD')\n"
     ]
    }
   ],
   "source": [
    "### **1. Packing/Unpacking Data**\n",
    "import struct\n",
    "\n",
    "# Packing data into a binary format\n",
    "packed_data = struct.pack('>I4s', 1024, b'ABCD')\n",
    "print(f\"Packed Data: {packed_data}\")\n",
    "\n",
    "unpacked_data = struct.unpack('>I4s', packed_data)\n",
    "print(f\"Unpacked Data: {unpacked_data}\")"
   ]
  },
  {
   "cell_type": "code",
   "execution_count": 2,
   "id": "6cb0d20c",
   "metadata": {},
   "outputs": [
    {
     "name": "stdout",
     "output_type": "stream",
     "text": [
      "Unpacked Data: (1234, 2.3399999141693115, b'Hello')\n"
     ]
    }
   ],
   "source": [
    "### **2. Working with Complex Structures**\n",
    "packed_data = struct.pack('>I f 5s', 1234, 2.34, b'Hello')\n",
    "unpacked_data = struct.unpack('>I f 5s', packed_data)\n",
    "print(f\"Unpacked Data: {unpacked_data}\")"
   ]
  },
  {
   "cell_type": "code",
   "execution_count": 7,
   "id": "de458115",
   "metadata": {},
   "outputs": [
    {
     "name": "stdout",
     "output_type": "stream",
     "text": [
      "Little-endian: b'xV4\\x12'\n",
      "Big-endian: b'\\x124Vx'\n",
      "Little-endian: 78563412\n",
      "Big-endian: 12345678\n"
     ]
    }
   ],
   "source": [
    "### **3. Handling Endianness**\n",
    "import binascii\n",
    "\n",
    "little_endian = struct.pack('<I', 0x12345678)\n",
    "big_endian = struct.pack('>I', 0x12345678)\n",
    "\n",
    "print(f\"Little-endian: {little_endian}\")\n",
    "print(f\"Big-endian: {big_endian}\")\n",
    "\n",
    "print(f\"Little-endian: {binascii.hexlify(little_endian).decode()}\")\n",
    "print(f\"Big-endian: {binascii.hexlify(big_endian).decode()}\")"
   ]
  },
  {
   "cell_type": "code",
   "execution_count": 8,
   "id": "f6421d0c",
   "metadata": {},
   "outputs": [
    {
     "name": "stdout",
     "output_type": "stream",
     "text": [
      "Data from file: (1234,)\n"
     ]
    }
   ],
   "source": [
    "### **4. Practical Use Case: Binary File I/O**\n",
    "\n",
    "# Writing to a binary file\n",
    "with open('data.bin', 'wb') as f:\n",
    "    f.write(struct.pack('>I', 1234))\n",
    "\n",
    "# Reading from a binary file\n",
    "with open('data.bin', 'rb') as f:\n",
    "    data = f.read()\n",
    "    unpacked_data = struct.unpack('>I', data)\n",
    "print(f\"Data from file: {unpacked_data}\")"
   ]
  },
  {
   "cell_type": "markdown",
   "id": "0114f80e-0532-49f1-b928-e1d7dc1c95fd",
   "metadata": {},
   "source": [
    "## How to determine a complete message in the received data?\n",
    "- **M1**: In TCP blocking mode, recv() returns an empty string indicates the end of a message\n",
    "  - [Simply Send All Data and Then Close the Connection](./streamer.py)\n",
    "    ```bash\n",
    "    # open two terminals, one runs as the server\n",
    "    python3 streamer.py\n",
    "    # the other runs the client\n",
    "    python3 streamer.py -c\n",
    "    ```\n",
    "- **M2**: Stream in both directions alternatively\n",
    "- **M3**: Use fixed-length messages\n",
    "  ```python\n",
    "  def recvall(sock, length):\n",
    "      data = b''\n",
    "      while len(data) < length:\n",
    "          more = sock.recv(length - len(data))\n",
    "          if not more:\n",
    "              raise EOFError('socket closed {len(data)} bytes into a {length}-byte message.')\n",
    "          data += more\n",
    "      return data\n",
    "  ```\n",
    "- **M4**: Delimit messages with special characters\n",
    "  - Hard to choose the delimiter if any data is legal in the message\n",
    "- **M5**: Prefix each message with its length\n",
    "  - The length of each message must be known ahead\n",
    "  - [Framing Each Block of Data by Preceding It with Its Length](./blocks.py)\n",
    "    ```bash\n",
    "    # open two terminals, one runs as the server\n",
    "    python3 blocks.py\n",
    "    # the other runs the client\n",
    "    python3 blocks.py -c\n",
    "    ```\n",
    "- **M6**: \n",
    "  - If the length of message is unknow ahead in **M5**, use it for the current data and\n",
    "  - Signal the end with length 0"
   ]
  },
  {
   "cell_type": "markdown",
   "id": "b8338468-5747-4af4-8785-653fa70705ef",
   "metadata": {},
   "source": [
    "- HTTP uses both **M4** and **M5**\n",
    "  - the blank line '\\r\\n\\r\\n' delimits its header\n",
    "  - the HTTP payload such as an image is pure binary data,\n",
    "    - Content-Length is provided in the header to determine the amount of data"
   ]
  },
  {
   "cell_type": "markdown",
   "id": "0df78263-5942-4ec3-9f51-6b8886c26177",
   "metadata": {},
   "source": [
    "## 5.5 Pickles and self-delimiting formats\n",
    "- pickles have built-in delimiting"
   ]
  },
  {
   "cell_type": "code",
   "execution_count": 37,
   "id": "c69e0bef-d242-456d-9556-240fc4bc2c50",
   "metadata": {},
   "outputs": [],
   "source": [
    "import pickle"
   ]
  },
  {
   "cell_type": "code",
   "execution_count": 41,
   "id": "786011cb-3a7f-49b9-bee4-5ed85186fa56",
   "metadata": {},
   "outputs": [
    {
     "data": {
      "text/plain": [
       "b'\\x80\\x04\\x95\\x0e\\x00\\x00\\x00\\x00\\x00\\x00\\x00]\\x94(K\\n\\x8c\\x02hi\\x94K\\x14e.'"
      ]
     },
     "execution_count": 41,
     "metadata": {},
     "output_type": "execute_result"
    }
   ],
   "source": [
    "pa = pickle.dumps([10,'hi',20]) # the period . at the end of the output is the dilimiter\n",
    "pa"
   ]
  },
  {
   "cell_type": "code",
   "execution_count": 42,
   "id": "023e522a-eacf-4ffe-9bca-fb81270f99bc",
   "metadata": {},
   "outputs": [
    {
     "data": {
      "text/plain": [
       "[10, 'hi', 20]"
      ]
     },
     "execution_count": 42,
     "metadata": {},
     "output_type": "execute_result"
    }
   ],
   "source": [
    "pickle.loads(pa)"
   ]
  },
  {
   "cell_type": "markdown",
   "id": "64a9292d-358a-4cda-b5dd-758ec9497a50",
   "metadata": {},
   "source": [
    "- pickle.load() reads from a file and stops at the end of the pickle data"
   ]
  },
  {
   "cell_type": "code",
   "execution_count": 45,
   "id": "0405c68e-c504-4207-bd7d-6f2e869781c3",
   "metadata": {},
   "outputs": [],
   "source": [
    "from io import BytesIO\n",
    "f = BytesIO(b'\\x80\\x04\\x95\\x0e\\x00\\x00\\x00\\x00\\x00\\x00\\x00]\\x94(K\\n\\x8c\\x02hi\\x94K\\x14e.more data to come')"
   ]
  },
  {
   "cell_type": "code",
   "execution_count": 46,
   "id": "a9118dc7-4b88-455e-b2b8-05acdda85cc0",
   "metadata": {},
   "outputs": [
    {
     "data": {
      "text/plain": [
       "[10, 'hi', 20]"
      ]
     },
     "execution_count": 46,
     "metadata": {},
     "output_type": "execute_result"
    }
   ],
   "source": [
    "pickle.load(f)"
   ]
  },
  {
   "cell_type": "code",
   "execution_count": 47,
   "id": "43ff6e34-ceba-461f-b5a8-610fb08f36d8",
   "metadata": {},
   "outputs": [
    {
     "data": {
      "text/plain": [
       "25"
      ]
     },
     "execution_count": 47,
     "metadata": {},
     "output_type": "execute_result"
    }
   ],
   "source": [
    "f.tell()"
   ]
  },
  {
   "cell_type": "code",
   "execution_count": 48,
   "id": "01c0cd6e-317c-4ca8-8726-9d7331f49a10",
   "metadata": {},
   "outputs": [
    {
     "data": {
      "text/plain": [
       "b'more data to come'"
      ]
     },
     "execution_count": 48,
     "metadata": {},
     "output_type": "execute_result"
    }
   ],
   "source": [
    "f.read()"
   ]
  },
  {
   "cell_type": "markdown",
   "id": "6074f7a9-9b66-4809-95d4-e412e0db677a",
   "metadata": {},
   "source": [
    "- wrap a socket in a Python file object with makefile() then supply to pickle.load()\n",
    "- [furthe info: pickle — Python object serialization](https://docs.python.org/3/library/pickle.html)"
   ]
  },
  {
   "cell_type": "markdown",
   "id": "eb77c020-220a-4f20-b9b9-d27a166d0bb7",
   "metadata": {},
   "source": [
    "## 5.6 XML and JSON\n",
    "- widely used data formats\n",
    "  - no framing support\n",
    "- JSON is used to exchange data between different programming languages\n",
    "  - allows Unicode characters in its strings and payload\n",
    "  - encodes JSON strings as UTF-8 for network transmission\n",
    "- XML is better for documents"
   ]
  },
  {
   "cell_type": "code",
   "execution_count": 50,
   "id": "3691381c-39de-4eff-9d7c-c33b89f080c7",
   "metadata": {},
   "outputs": [
    {
     "data": {
      "text/plain": [
       "'[1979, \"\\\\u4e2d\\\\u7f8e\\\\u5efa\\\\u4ea4\"]'"
      ]
     },
     "execution_count": 50,
     "metadata": {},
     "output_type": "execute_result"
    }
   ],
   "source": [
    "import json\n",
    "json.dumps([1979, '中美建交'])"
   ]
  },
  {
   "cell_type": "code",
   "execution_count": 51,
   "id": "d7b2b4a0-14ee-43f0-876e-2948cf04c0d8",
   "metadata": {},
   "outputs": [
    {
     "data": {
      "text/plain": [
       "'[51, \"Nixon and 周恩来\"]'"
      ]
     },
     "execution_count": 51,
     "metadata": {},
     "output_type": "execute_result"
    }
   ],
   "source": [
    "json.dumps([51, 'Nixon and 周恩来'], ensure_ascii=False)"
   ]
  },
  {
   "cell_type": "code",
   "execution_count": 53,
   "id": "af2d4029-ab23-4f9a-8088-3ce052bc2617",
   "metadata": {},
   "outputs": [
    {
     "data": {
      "text/plain": [
       "{'USA': 'Nixson', '中国': '周恩来'}"
      ]
     },
     "execution_count": 53,
     "metadata": {},
     "output_type": "execute_result"
    }
   ],
   "source": [
    "json.loads('{\"USA\":\"Nixson\", \"中国\":\"周恩来\"}')"
   ]
  },
  {
   "cell_type": "markdown",
   "id": "f6239300-5e2e-4812-8218-fbe2733b9fd2",
   "metadata": {},
   "source": [
    "- XML and JSON are text formats\n",
    "- Binary formats like Thrift and Google Protocol Buffers are more efficient"
   ]
  },
  {
   "cell_type": "markdown",
   "id": "2d9ca5a7-dd8f-46dc-ba02-65a625cdaab3",
   "metadata": {},
   "source": [
    "## 5.7 Compression\n",
    "- Network throughput is a bottleneck in distributed applications\n",
    "  - it is worthwhile to compress data before transmission\n",
    "- GNU zlib a popular compression format\n",
    "  - available in Python Standard Library (PSL)\n",
    "  - supports self-framing\n",
    "  - however, most protocols choose to do their own framing"
   ]
  },
  {
   "cell_type": "code",
   "execution_count": 54,
   "id": "c12d706b-78c4-4870-9d12-0f85ac7af88f",
   "metadata": {},
   "outputs": [
    {
     "data": {
      "text/plain": [
       "b'x\\x9cs\\xcb,*.Q(N\\xcd+I\\xcdKN\\x05\\x00(d\\x05~|x\\x9c\\x0bNM\\xce\\xcfKQ(N\\xcd+I\\xcdKN\\x05\\x00-\\xab\\x05\\xd2|'"
      ]
     },
     "execution_count": 54,
     "metadata": {},
     "output_type": "execute_result"
    }
   ],
   "source": [
    "# there is overhead of compression\n",
    "# here, two compression streams are separated with '|'\n",
    "import zlib\n",
    "data  = zlib.compress(b'First sentence') + b'|' + zlib.compress(b'Second sentence') + b'|'\n",
    "data"
   ]
  },
  {
   "cell_type": "code",
   "execution_count": 55,
   "id": "a50448e1-2944-4c03-908a-2b9aa2050de3",
   "metadata": {},
   "outputs": [
    {
     "data": {
      "text/plain": [
       "47"
      ]
     },
     "execution_count": 55,
     "metadata": {},
     "output_type": "execute_result"
    }
   ],
   "source": [
    "len(data)"
   ]
  },
  {
   "cell_type": "code",
   "execution_count": 67,
   "id": "0f235e2d-69fc-445a-a1b8-6b1f54305165",
   "metadata": {},
   "outputs": [
    {
     "data": {
      "text/plain": [
       "(b'First', b'')"
      ]
     },
     "execution_count": 67,
     "metadata": {},
     "output_type": "execute_result"
    }
   ],
   "source": [
    "# suppose network block is of size 8 bytes\n",
    "d = zlib.decompressobj()\n",
    "d.decompress(data[0:8]), d.unused_data # empty unused_data indicates more data to come"
   ]
  },
  {
   "cell_type": "code",
   "execution_count": 68,
   "id": "5b60fd5b-101c-46c5-b380-1ddd09026ed9",
   "metadata": {},
   "outputs": [
    {
     "data": {
      "text/plain": [
       "(b' sentenc', b'')"
      ]
     },
     "execution_count": 68,
     "metadata": {},
     "output_type": "execute_result"
    }
   ],
   "source": [
    "d.decompress(data[8:16]), d.unused_data"
   ]
  },
  {
   "cell_type": "code",
   "execution_count": 69,
   "id": "e0d79ce1-aaf4-4757-b2a7-d5d158cd402e",
   "metadata": {},
   "outputs": [
    {
     "data": {
      "text/plain": [
       "(b'e', b'|x')"
      ]
     },
     "execution_count": 69,
     "metadata": {},
     "output_type": "execute_result"
    }
   ],
   "source": [
    "d.decompress(data[16:24]), d.unused_data \n",
    "# in '|x', the character followed | belongs to the next compression stream, feed it to a new decompressionobj"
   ]
  },
  {
   "cell_type": "code",
   "execution_count": 70,
   "id": "d4e6bd21-be98-47cb-9386-a29b2e7f6d12",
   "metadata": {},
   "outputs": [
    {
     "data": {
      "text/plain": [
       "(b'', b'')"
      ]
     },
     "execution_count": 70,
     "metadata": {},
     "output_type": "execute_result"
    }
   ],
   "source": [
    "d2 = zlib.decompressobj()\n",
    "d2.decompress(b'x'), d2.unused_data"
   ]
  },
  {
   "cell_type": "code",
   "execution_count": 71,
   "id": "c09f28e2-d593-429a-a0bf-ea1dd5db6376",
   "metadata": {},
   "outputs": [
    {
     "data": {
      "text/plain": [
       "(b'Second', b'')"
      ]
     },
     "execution_count": 71,
     "metadata": {},
     "output_type": "execute_result"
    }
   ],
   "source": [
    "d2.decompress(data[24:32]), d2.unused_data"
   ]
  },
  {
   "cell_type": "code",
   "execution_count": 72,
   "id": "a8001f61-14d5-4916-bbee-a2cfc65720b0",
   "metadata": {},
   "outputs": [
    {
     "data": {
      "text/plain": [
       "(b' sentence', b'|')"
      ]
     },
     "execution_count": 72,
     "metadata": {},
     "output_type": "execute_result"
    }
   ],
   "source": [
    "d2.decompress(data[32:]), d2.unused_data\n",
    "# that unused_data is nonempty indicates the second stream of compression is complete and intact"
   ]
  },
  {
   "cell_type": "markdown",
   "id": "8411e517-9291-44f0-a0ee-dbe6b01ac26d",
   "metadata": {},
   "source": [
    "## 5.8 Network exceptions\n",
    "- the number of socket errors is quite large\n",
    "- but the number of actual exceptions with socket operations is quite few\n",
    "  - OSError: nearly raised by every failure at any stage in network transmission\n",
    "  - socket.gaierror: raised when getaddrinfo() failed to find a name or service\n",
    "  - socket.timeout: indicates timeout before operation could complete normally\n",
    "  - herror: raised from certain old-fasioned address lookup calls"
   ]
  },
  {
   "cell_type": "code",
   "execution_count": 76,
   "id": "703e5e65-7f99-4bae-8d28-0e389a171dfe",
   "metadata": {},
   "outputs": [
    {
     "ename": "gaierror",
     "evalue": "[Errno -2] Name or service not known",
     "output_type": "error",
     "traceback": [
      "\u001b[0;31m---------------------------------------------------------------------------\u001b[0m",
      "\u001b[0;31mgaierror\u001b[0m                                  Traceback (most recent call last)",
      "Cell \u001b[0;32mIn[76], line 4\u001b[0m\n\u001b[1;32m      2\u001b[0m s \u001b[38;5;241m=\u001b[39m socket\u001b[38;5;241m.\u001b[39msocket(socket\u001b[38;5;241m.\u001b[39mAF_INET, socket\u001b[38;5;241m.\u001b[39mSOCK_STREAM)\n\u001b[1;32m      3\u001b[0m \u001b[38;5;28;01mtry\u001b[39;00m:\n\u001b[0;32m----> 4\u001b[0m     \u001b[43ms\u001b[49m\u001b[38;5;241;43m.\u001b[39;49m\u001b[43mconnect\u001b[49m\u001b[43m(\u001b[49m\u001b[43m(\u001b[49m\u001b[38;5;124;43m'\u001b[39;49m\u001b[38;5;124;43mnonexistent.website.com\u001b[39;49m\u001b[38;5;124;43m'\u001b[39;49m\u001b[43m,\u001b[49m\u001b[43m \u001b[49m\u001b[38;5;241;43m80\u001b[39;49m\u001b[43m)\u001b[49m\u001b[43m)\u001b[49m\n\u001b[1;32m      5\u001b[0m \u001b[38;5;28;01mexcept\u001b[39;00m socket\u001b[38;5;241m.\u001b[39mgaierror \u001b[38;5;28;01mas\u001b[39;00m e:\n\u001b[1;32m      6\u001b[0m     \u001b[38;5;28;01mraise\u001b[39;00m\n",
      "\u001b[0;31mgaierror\u001b[0m: [Errno -2] Name or service not known"
     ]
    }
   ],
   "source": [
    "import socket\n",
    "s = socket.socket(socket.AF_INET, socket.SOCK_STREAM)\n",
    "try:\n",
    "    s.connect(('nonexistent.website.com', 80))\n",
    "except socket.gaierror as e: # e.errno => -2; e.strerror => 'Name or service not known'\n",
    "    raise"
   ]
  },
  {
   "cell_type": "markdown",
   "id": "74c9a3e3-b74f-43c5-9fdd-2e2ada57973b",
   "metadata": {},
   "source": [
    "- Some higher-level socket-based protocols such as *httplib* from PSL allow\n",
    "  - expose raw socket errors\n",
    "  - catch and turn raw socket errors into their own kind of errors"
   ]
  },
  {
   "cell_type": "code",
   "execution_count": null,
   "id": "cc45d52a-c972-40d1-a17b-6c05bd1a41d2",
   "metadata": {},
   "outputs": [],
   "source": [
    "import http.client\n",
    "h = http.client.HTTPConnection('nonexistent.website.com')\n",
    "h.request('GET', '/')"
   ]
  },
  {
   "cell_type": "markdown",
   "id": "2890a002-a637-4182-a1f6-4f80fa81c674",
   "metadata": {},
   "source": [
    "- But *urllib2* hides this same error and raises URLError to be clean and neutral"
   ]
  },
  {
   "cell_type": "code",
   "execution_count": null,
   "id": "cc1f3f70-555d-4f2d-8c5b-557208df68de",
   "metadata": {},
   "outputs": [],
   "source": [
    "import urllib.request\n",
    "urllib.request.urlopen('http://nonexistent.website.com/')"
   ]
  },
  {
   "cell_type": "markdown",
   "id": "c8b4417d-b6f1-46aa-83b2-9414c7245c53",
   "metadata": {},
   "source": [
    "## 5.9 Catching and reporting network exceptions\n",
    "- Granular exception handler\n",
    "  - wrap every network call with a try...except clause\n",
    "  - suitable for short programs\n",
    "- Blanket exception handler\n",
    "  - wrap blocks of code with clear purposes"
   ]
  },
  {
   "cell_type": "code",
   "execution_count": null,
   "id": "9528110f-933b-4287-99ee-0ab2dc3fb030",
   "metadata": {},
   "outputs": [],
   "source": []
  }
 ],
 "metadata": {
  "kernelspec": {
   "display_name": "Python 3 (ipykernel)",
   "language": "python",
   "name": "python3"
  },
  "language_info": {
   "codemirror_mode": {
    "name": "ipython",
    "version": 3
   },
   "file_extension": ".py",
   "mimetype": "text/x-python",
   "name": "python",
   "nbconvert_exporter": "python",
   "pygments_lexer": "ipython3",
   "version": "3.12.3"
  }
 },
 "nbformat": 4,
 "nbformat_minor": 5
}

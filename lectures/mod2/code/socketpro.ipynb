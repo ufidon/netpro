{
 "cells": [
  {
   "cell_type": "markdown",
   "id": "e23b050d-1ecb-4541-b276-bf4e920a838f",
   "metadata": {},
   "source": [
    "# Python Network Programming Cookbook Second Edition\n",
    "[source code](https://github.com/PacktPublishing/Python-Network-Programming-Cookbook-Second-Edition)"
   ]
  },
  {
   "cell_type": "markdown",
   "id": "977861f6-97e1-4e51-96b9-880bc5dbd1b8",
   "metadata": {},
   "source": [
    "# 1. Get local machine info"
   ]
  },
  {
   "cell_type": "code",
   "execution_count": 1,
   "id": "69484654-6090-45b8-b104-7464415f331a",
   "metadata": {},
   "outputs": [
    {
     "name": "stdout",
     "output_type": "stream",
     "text": [
      "hostname: kaifage; ipv4 address: 127.0.1.1\n"
     ]
    }
   ],
   "source": [
    "import socket\n",
    "hostname = socket.gethostname()\n",
    "ipv4addr = socket.gethostbyname(hostname)\n",
    "print(f\"hostname: {hostname}; ipv4 address: {ipv4addr}\")"
   ]
  },
  {
   "cell_type": "markdown",
   "id": "96a5057d-dfbd-4fd7-9a05-07828c14a636",
   "metadata": {},
   "source": [
    "# 2. Get a remote machine's ip address"
   ]
  },
  {
   "cell_type": "code",
   "execution_count": 13,
   "id": "ff876fcb-b6ef-41a6-8f4c-6f2598a558c3",
   "metadata": {},
   "outputs": [
    {
     "name": "stdout",
     "output_type": "stream",
     "text": [
      "googlex.com: [Errno -5] No address associated with hostname\n"
     ]
    }
   ],
   "source": [
    "remoteHost = 'google.com' # try a non-existant host name\n",
    "remoteIP = ''\n",
    "try: \n",
    "    remoteIP = socket.gethostbyname(remoteHost)\n",
    "    print(f\"remote host {remoteHost} has ip address {remoteIP}\")\n",
    "except socket.error as errMsg:\n",
    "    print(f\"{remoteHost}: {errMsg}\")"
   ]
  },
  {
   "cell_type": "markdown",
   "id": "5696f3ae-5ead-4458-bb85-6f8d4f00ec71",
   "metadata": {},
   "source": [
    "# 3. IPv4 address conversion"
   ]
  },
  {
   "cell_type": "code",
   "execution_count": 16,
   "id": "8bac0703-d9dd-4199-8c4c-0cf1c2a1b3b8",
   "metadata": {},
   "outputs": [
    {
     "name": "stdout",
     "output_type": "stream",
     "text": [
      "IP Address: 127.0.0.1 => Packed: b'7f000001', Unpacked: 127.0.0.1\n",
      "IP Address: 192.168.0.1 => Packed: b'c0a80001', Unpacked: 192.168.0.1\n"
     ]
    }
   ],
   "source": [
    "from binascii import hexlify\n",
    "for ip_addr in ['127.0.0.1', '192.168.0.1']:\n",
    "    packed_ip_addr = socket.inet_aton(ip_addr)\n",
    "    unpacked_ip_addr = socket.inet_ntoa(packed_ip_addr)\n",
    "    print (\"IP Address: %s => Packed: %s, Unpacked: %s\" %(ip_addr, hexlify(packed_ip_addr), unpacked_ip_addr))"
   ]
  },
  {
   "cell_type": "markdown",
   "id": "7d123449-7908-403e-a3dc-ee012f685ae8",
   "metadata": {},
   "source": [
    "# 4. Find service name\n",
    "Compare the output with [List of TCP and UDP port numbers](https://en.wikipedia.org/wiki/List_of_TCP_and_UDP_port_numbers)"
   ]
  },
  {
   "cell_type": "code",
   "execution_count": null,
   "id": "768bb8b2-41c0-4359-b12b-9374da02de41",
   "metadata": {},
   "outputs": [],
   "source": [
    "for port in range(1025):\n",
    "    try:\n",
    "        print (\"TCP port: %d => service name: %s\" %(port, socket.getservbyport(port, 'tcp')))\n",
    "        print (\"UDP port: %d => service name: %s\" %(port, socket.getservbyport(port, 'udp')))\n",
    "    except socket.error as errMsg:\n",
    "        print(f\"port {port}: {errMsg}\")"
   ]
  },
  {
   "cell_type": "markdown",
   "id": "ea093fa8-fe9e-4d7f-9d14-a348b263c27b",
   "metadata": {},
   "source": [
    "\n",
    "# 5. Convert integers between host byte order and network byte order"
   ]
  },
  {
   "cell_type": "code",
   "execution_count": 6,
   "id": "22b35655-752b-4a57-b9a6-9673cc3ab643",
   "metadata": {},
   "outputs": [
    {
     "name": "stdout",
     "output_type": "stream",
     "text": [
      "Long integer: 12345678 => host byte order: 78563412, Network byte order: 78563412\n",
      "short integer: abcd => host byte order: cdab, Network byte order: cdab\n"
     ]
    }
   ],
   "source": [
    "# 32-bit\n",
    "longdata = 0x12345678\n",
    "print (\"Long integer: %x => host byte order: %x, Network byte order: %x\" %(longdata, socket.ntohl(longdata), socket.htonl(longdata)))\n",
    "# 16-bit\n",
    "shortdata = 0xabcd\n",
    "print (\"short integer: %x => host byte order: %x, Network byte order: %x\" %(shortdata, socket.ntohs(shortdata), socket.htons(shortdata)))"
   ]
  },
  {
   "cell_type": "markdown",
   "id": "f3ec20c9-ff1b-4655-9479-db2bac84fbcf",
   "metadata": {},
   "source": [
    "# 6. Get and set socket timeout"
   ]
  },
  {
   "cell_type": "code",
   "execution_count": 11,
   "id": "a5cc11e2-b27a-4af3-9ac6-ce41db034259",
   "metadata": {},
   "outputs": [
    {
     "name": "stdout",
     "output_type": "stream",
     "text": [
      "Default socket timeout: None\n",
      "Current socket timeout: 100.0 seconds\n"
     ]
    }
   ],
   "source": [
    "s = socket.socket(socket.AF_INET, socket.SOCK_STREAM)\n",
    "print (\"Default socket timeout: %s\" %s.gettimeout())\n",
    "s.settimeout(100) # in seonds, find the usage: s.settimeout?\n",
    "print (\"Current socket timeout: %s seconds\" %s.gettimeout())  "
   ]
  },
  {
   "cell_type": "markdown",
   "id": "e176f111-32ac-4bc7-8f3f-08fd6c45b3e5",
   "metadata": {},
   "source": [
    "# 7. Handle socket errors"
   ]
  },
  {
   "cell_type": "markdown",
   "id": "77ff8aee-c68c-4582-ae5c-169ad6e2e4e4",
   "metadata": {},
   "source": [
    "# 8. Change socket buffer sizes"
   ]
  },
  {
   "cell_type": "code",
   "execution_count": 14,
   "id": "3f0970e5-419f-4b2e-9739-3f67db7668b5",
   "metadata": {},
   "outputs": [
    {
     "name": "stdout",
     "output_type": "stream",
     "text": [
      "[Before] send buffer size:16384\n",
      "[Before] receive buffer size:16384\n",
      "[After] send buffer size:8192\n",
      "[After] receive buffer size:8192\n"
     ]
    }
   ],
   "source": [
    "SEND_BUF_SIZE = 4096\n",
    "RECV_BUF_SIZE = 4096\n",
    "\n",
    "sock = socket.socket( socket.AF_INET, socket.SOCK_STREAM )\n",
    "\n",
    "# Get the size of the socket's send buffer\n",
    "bufsize = sock.getsockopt(socket.SOL_SOCKET, socket.SO_SNDBUF)\n",
    "print (\"[Before] send buffer size:%d\" %bufsize)\n",
    "# Get the size of the socket's receive buffer\n",
    "bufsize = sock.getsockopt(socket.SOL_SOCKET, socket.SO_SNDBUF)\n",
    "print (\"[Before] receive buffer size:%d\" %bufsize)\n",
    "\n",
    "sock.setsockopt(socket.SOL_TCP, socket.TCP_NODELAY, 1)\n",
    "sock.setsockopt(\n",
    "        socket.SOL_SOCKET,\n",
    "        socket.SO_SNDBUF,\n",
    "        SEND_BUF_SIZE)\n",
    "sock.setsockopt(\n",
    "        socket.SOL_SOCKET,\n",
    "        socket.SO_RCVBUF,\n",
    "        RECV_BUF_SIZE)\n",
    "\n",
    "bufsize = sock.getsockopt(socket.SOL_SOCKET, socket.SO_SNDBUF)\n",
    "print (\"[After] send buffer size:%d\" %bufsize)\n",
    "bufsize = sock.getsockopt(socket.SOL_SOCKET, socket.SO_SNDBUF)\n",
    "print (\"[After] receive buffer size:%d\" %bufsize)"
   ]
  },
  {
   "cell_type": "markdown",
   "id": "6fd98269-c8aa-49c7-bda0-f615d6bc41d1",
   "metadata": {},
   "source": [
    "# 9. Blocking mode vs. non-blocking mode"
   ]
  },
  {
   "cell_type": "code",
   "execution_count": null,
   "id": "31dd7512-481d-45eb-8a9a-80b685207be4",
   "metadata": {},
   "outputs": [],
   "source": [
    "s = socket.socket(socket.AF_INET, socket.SOCK_STREAM)\n",
    "s.setblocking(1)\n",
    "s.settimeout(0.5)\n",
    "s.bind((\"127.0.0.1\", 0))\n",
    "\n",
    "socket_address = s.getsockname()\n",
    "print (\"Trivial Server launched on socket: %s\" %str(socket_address))\n",
    "while(1):\n",
    "    s.listen(1)"
   ]
  },
  {
   "cell_type": "markdown",
   "id": "74da69f0-a851-40dd-b514-77091a1e4db2",
   "metadata": {},
   "source": [
    "# 10. Reuse socket address"
   ]
  },
  {
   "cell_type": "markdown",
   "id": "05741919-0a45-47ad-aa47-ad8458f9ca6f",
   "metadata": {},
   "source": [
    "# 11. Get internet time with NTP\n",
    "[Network time protocol (NTP)](https://en.wikipedia.org/wiki/Network_Time_Protocol)\n",
    "\n",
    "[List of Top Public Time Servers ](https://gist.github.com/mutin-sa/eea1c396b1e610a2da1e5550d94b0453)"
   ]
  },
  {
   "cell_type": "code",
   "execution_count": 3,
   "id": "d14958aa-1a15-4560-89f7-1699ec66e00c",
   "metadata": {},
   "outputs": [
    {
     "name": "stdout",
     "output_type": "stream",
     "text": [
      "Sat Aug 26 20:02:59 2023\n"
     ]
    }
   ],
   "source": [
    "import ntplib\n",
    "from time import ctime\n",
    "\n",
    "ntp_client = ntplib.NTPClient()\n",
    "response = ntp_client.request('time.google.com')\n",
    "#response = ntp_client.request('ntp-b.nist.gov')\n",
    "print (ctime(response.tx_time))"
   ]
  },
  {
   "cell_type": "markdown",
   "id": "8b5e05e1-8680-4bd9-8a2c-36a7da8264a9",
   "metadata": {},
   "source": [
    "# 12. Get internet time with SNTP\n",
    "[Simple Network Time Protocol (SNTP)](https://www.advtimesync.com/online-manual/simple-network-time-protocol)\n",
    "\n",
    "[Epoch time](http://www.epochconverter.com/)"
   ]
  },
  {
   "cell_type": "code",
   "execution_count": 5,
   "id": "7ec43956-31c1-42ab-9bdf-fb69e08ad148",
   "metadata": {},
   "outputs": [
    {
     "name": "stdout",
     "output_type": "stream",
     "text": [
      "Response received from: ('152.67.150.30', 123)\n",
      "\tTime=Sat Aug 26 20:26:22 2023\n"
     ]
    }
   ],
   "source": [
    "import socket\n",
    "import struct\n",
    "import sys\n",
    "import time\n",
    "\n",
    "NTP_SERVER = \"0.uk.pool.ntp.org\"\n",
    "TIME1970 = 2208988800 # reference epoch for 1970/1/1\n",
    "\n",
    "\n",
    "client = socket.socket( socket.AF_INET, socket.SOCK_DGRAM )\n",
    "data = '\\x1b' + 47 * '\\0'\n",
    "client.sendto( data.encode('utf-8'), ( NTP_SERVER, 123 ))\n",
    "data, address = client.recvfrom( 1024 )\n",
    "if data:\n",
    "    print ('Response received from:', address)\n",
    "t = struct.unpack( '!12I', data )[10]\n",
    "t -= TIME1970\n",
    "print ('\\tTime=%s' % time.ctime(t))"
   ]
  },
  {
   "cell_type": "code",
   "execution_count": null,
   "id": "e0f45ee0-a797-49c7-a4cd-5fbfd955a1a5",
   "metadata": {},
   "outputs": [],
   "source": []
  }
 ],
 "metadata": {
  "kernelspec": {
   "display_name": "Python 3 (ipykernel)",
   "language": "python",
   "name": "python3"
  },
  "language_info": {
   "codemirror_mode": {
    "name": "ipython",
    "version": 3
   },
   "file_extension": ".py",
   "mimetype": "text/x-python",
   "name": "python",
   "nbconvert_exporter": "python",
   "pygments_lexer": "ipython3",
   "version": "3.11.4"
  }
 },
 "nbformat": 4,
 "nbformat_minor": 5
}

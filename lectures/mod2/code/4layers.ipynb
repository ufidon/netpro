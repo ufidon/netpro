{
 "cells": [
  {
   "cell_type": "markdown",
   "id": "c8ff42a6-155f-4b13-8c6e-dfcb440ced83",
   "metadata": {},
   "source": [
    "# Different ways to access [OpenStreetMap](https://www.openstreetmap.org)\n",
    "\n",
    "- [Foundations of Python Network Programming Ch1](https://github.com/brandon-rhodes/fopnp/tree/m/py3/chapter01)"
   ]
  },
  {
   "cell_type": "markdown",
   "id": "f9f53fc3-de33-4c4a-ab74-b6676429c70f",
   "metadata": {},
   "source": [
    "## 1. Using geopy"
   ]
  },
  {
   "cell_type": "code",
   "execution_count": 2,
   "id": "5a1decbf-5c42-4c6c-b746-3aabaa6c5341",
   "metadata": {},
   "outputs": [
    {
     "name": "stdout",
     "output_type": "stream",
     "text": [
      "28.147705350000003 -81.84878516048089\n"
     ]
    }
   ],
   "source": [
    "# use  openstreetmap.org\n",
    "# prerequisite: pip3 install geopy\n",
    "from geopy.geocoders import Nominatim\n",
    "\n",
    "if __name__ == '__main__':\n",
    "    address = '4700 Research Way, Lakeland, FL 33805'\n",
    "    user_agent = 'Find the latitude and longitute of a place using geopy'\n",
    "    location = Nominatim(user_agent=user_agent).geocode(address)\n",
    "    print(location.latitude, location.longitude)"
   ]
  },
  {
   "cell_type": "markdown",
   "id": "2180c3ad-2b12-400a-b327-0819f0ffac83",
   "metadata": {},
   "source": [
    "## 2. Using HTTP requests"
   ]
  },
  {
   "cell_type": "code",
   "execution_count": 3,
   "id": "95444000-e761-471b-89d4-8cadf0b0a85e",
   "metadata": {},
   "outputs": [
    {
     "name": "stdout",
     "output_type": "stream",
     "text": [
      "28.142033 -81.86029\n"
     ]
    }
   ],
   "source": [
    "import requests\n",
    "\n",
    "def geocode(address):\n",
    "    base = 'https://nominatim.openstreetmap.org/search'\n",
    "    parameters = {'q': address, 'format': 'json'}\n",
    "    user_agent = 'Find the latitude and longitute of a place using HTTP requests'\n",
    "    headers = {'User-Agent': user_agent}\n",
    "    response = requests.get(base, params=parameters, headers=headers)\n",
    "    reply = response.json()\n",
    "    print(reply[0]['lat'], reply[0]['lon'])\n",
    "\n",
    "address = '4700 Research Way, Lakeland, FL 33805'\n",
    "geocode(address)"
   ]
  },
  {
   "cell_type": "markdown",
   "id": "4237cc1f-66a0-4645-a358-154c36148ab3",
   "metadata": {},
   "source": [
    "## 3. Using HTTP"
   ]
  },
  {
   "cell_type": "code",
   "execution_count": 5,
   "id": "e381b740-a569-45c3-81c0-99f72e8dc497",
   "metadata": {},
   "outputs": [
    {
     "name": "stdout",
     "output_type": "stream",
     "text": [
      "28.142033 -81.86029\n"
     ]
    }
   ],
   "source": [
    "import http.client\n",
    "import json\n",
    "from urllib.parse import quote_plus\n",
    "\n",
    "base = '/search'\n",
    "\n",
    "def geocode(address):\n",
    "    path = '{}?q={}&format=json'.format(base, quote_plus(address))\n",
    "    user_agent = b'Find the latitude and longitute of a place using HTTP client'\n",
    "    headers = {b'User-Agent': user_agent}\n",
    "    connection = http.client.HTTPSConnection('nominatim.openstreetmap.org')\n",
    "    connection.request('GET', path, None, headers)\n",
    "    rawreply = connection.getresponse().read()\n",
    "    reply = json.loads(rawreply.decode('utf-8'))\n",
    "    print(reply[0]['lat'], reply[0]['lon'])\n",
    "\n",
    "address = '4700 Research Way, Lakeland, FL 33805'\n",
    "geocode(address)"
   ]
  },
  {
   "cell_type": "markdown",
   "id": "c7d77a1f-f9d0-47bf-afdc-a7426d8c21f2",
   "metadata": {},
   "source": [
    "## 4. Using socket"
   ]
  },
  {
   "cell_type": "code",
   "execution_count": 31,
   "id": "852c01fd-c6f9-4bdd-b0ee-a0482a9222e6",
   "metadata": {},
   "outputs": [
    {
     "name": "stdout",
     "output_type": "stream",
     "text": [
      "HTTP/1.1 200 OK\n",
      "Server: nginx\n",
      "Date: Tue, 05 Sep 2023 18:24:53 GMT\n",
      "Content-Type: application/json; charset=utf-8\n",
      "Content-Length: 4264\n",
      "Connection: close\n",
      "\n",
      "[{\"place_id\":359194069,\"licence\":\"Data © OpenStreetMap contributors, ODbL 1.0. http://osm.org/copyright\",\"osm_type\":\"way\",\"osm_id\":279425009,\"lat\":\"28.142033\",\"lon\":\"-81.86029\",\"class\":\"place\",\"type\":\"house\",\"place_rank\":30,\"importance\":9.999999994736442e-08,\"addresstype\":\"place\",\"name\":\"\",\"display_name\":\"4700, Research Way, Lakeland, Polk County, Florida, 33805, United States\",\"boundingbox\":[\"28.1419830\",\"28.1420830\",\"-81.8603400\",\"-81.8602400\"]},{\"place_id\":293593932,\"licence\":\"Data © OpenStreetMap contributors, ODbL 1.0. http://osm.org/copyright\",\"osm_type\":\"way\",\"osm_id\":279425023,\"lat\":\"28.147705350000003\",\"lon\":\"-81.84878516048089\",\"class\":\"amenity\",\"type\":\"university\",\"place_rank\":30,\"importance\":9.99999999995449e-06,\"addresstype\":\"amenity\",\"name\":\"Florida Polytechnic University\",\"display_name\":\"Florida Polytechnic University, 4700, Research Way, Lakeland, Polk County, Florida, 33854, United States\",\"boundingbox\":[\"28.1424316\",\"28.1530634\",\"-81.8538982\",\"-81.8431145\"]},{\"place_id\":291982631,\"licence\":\"Data © OpenStreetMap contributors, ODbL 1.0. http://osm.org/copyright\",\"osm_type\":\"node\",\"osm_id\":5866932538,\"lat\":\"28.1488245\",\"lon\":\"-81.8504539\",\"class\":\"emergency\",\"type\":\"siren\",\"place_rank\":30,\"importance\":9.99999999995449e-06,\"addresstype\":\"emergency\",\"name\":\"\",\"display_name\":\"4700, Research Way, Lakeland, Polk County, Florida, 33854, United States\",\"boundingbox\":[\"28.1487745\",\"28.1488745\",\"-81.8505039\",\"-81.8504039\"]},{\"place_id\":292031634,\"licence\":\"Data © OpenStreetMap contributors, ODbL 1.0. http://osm.org/copyright\",\"osm_type\":\"node\",\"osm_id\":4951511104,\"lat\":\"28.1487693\",\"lon\":\"-81.8521242\",\"class\":\"emergency\",\"type\":\"designated\",\"place_rank\":30,\"importance\":9.99999999995449e-06,\"addresstype\":\"emergency\",\"name\":\"\",\"display_name\":\"4700, Research Way, Lakeland, Polk County, Florida, 33854, United States\",\"boundingbox\":[\"28.1487193\",\"28.1488193\",\"-81.8521742\",\"-81.8520742\"]},{\"place_id\":292031733,\"licence\":\"Data © OpenStreetMap contributors, ODbL 1.0. http://osm.org/copyright\",\"osm_type\":\"node\",\"osm_id\":5866932534,\"lat\":\"28.1508181\",\"lon\":\"-81.8515442\",\"class\":\"amenity\",\"type\":\"vending_machine\",\"place_rank\":30,\"importance\":9.99999999995449e-06,\"addresstype\":\"amenity\",\"name\":\"\",\"display_name\":\"4700, Research Way, Lakeland, Polk County, Florida, 33854, United States\",\"boundingbox\":[\"28.1507681\",\"28.1508681\",\"-81.8515942\",\"-81.8514942\"]},{\"place_id\":292032179,\"licence\":\"Data © OpenStreetMap contributors, ODbL 1.0. http://osm.org/copyright\",\"osm_type\":\"node\",\"osm_id\":4744107933,\"lat\":\"28.1476331\",\"lon\":\"-81.8500184\",\"class\":\"emergency\",\"type\":\"phone\",\"place_rank\":30,\"importance\":9.99999999995449e-06,\"addresstype\":\"emergency\",\"name\":\"\",\"display_name\":\"4700, Research Way, Lakeland, Polk County, Florida, 33854, United States\",\"boundingbox\":[\"28.1475831\",\"28.1476831\",\"-81.8500684\",\"-81.8499684\"]},{\"place_id\":292044349,\"licence\":\"Data © OpenStreetMap contributors, ODbL 1.0. http://osm.org/copyright\",\"osm_type\":\"node\",\"osm_id\":5276494092,\"lat\":\"28.1508814\",\"lon\":\"-81.8489371\",\"class\":\"man_made\",\"type\":\"surveillance\",\"place_rank\":30,\"importance\":9.99999999995449e-06,\"addresstype\":\"man_made\",\"name\":\"\",\"display_name\":\"4700, Research Way, Lakeland, Polk County, Florida, 33854, United States\",\"boundingbox\":[\"28.1508314\",\"28.1509314\",\"-81.8489871\",\"-81.8488871\"]},{\"place_id\":292045577,\"licence\":\"Data © OpenStreetMap contributors, ODbL 1.0. http://osm.org/copyright\",\"osm_type\":\"node\",\"osm_id\":5866932529,\"lat\":\"28.1508991\",\"lon\":\"-81.8493227\",\"class\":\"man_made\",\"type\":\"pumping_station\",\"place_rank\":30,\"importance\":9.99999999995449e-06,\"addresstype\":\"man_made\",\"name\":\"\",\"display_name\":\"4700, Research Way, Lakeland, Polk County, Florida, 33854, United States\",\"boundingbox\":[\"28.1508491\",\"28.1509491\",\"-81.8493727\",\"-81.8492727\"]},{\"place_id\":292051684,\"licence\":\"Data © OpenStreetMap contributors, ODbL 1.0. http://osm.org/copyright\",\"osm_type\":\"node\",\"osm_id\":4936940373,\"lat\":\"28.1504133\",\"lon\":\"-81.850114\",\"class\":\"amenity\",\"type\":\"recycling\",\"place_rank\":30,\"importance\":9.99999999995449e-06,\"addresstype\":\"amenity\",\"name\":\"\",\"display_name\":\"4700, Research Way, Lakeland, Polk County, Florida, 33854, United States\",\"boundingbox\":[\"28.1503633\",\"28.1504633\",\"-81.8501640\",\"-81.8500640\"]}]\n"
     ]
    }
   ],
   "source": [
    "import socket\n",
    "import ssl,certifi\n",
    "from urllib.parse import quote_plus\n",
    "import os\n",
    "import json\n",
    "\n",
    "request_text = \"\"\"\\\n",
    "GET /search?q={}&format=json HTTP/1.1\\r\\n\\\n",
    "Host: nominatim.openstreetmap.org\\r\\n\\\n",
    "User-Agent: Find the latitude and longitute of a place using socket\\r\\n\\\n",
    "Connection: close\\r\\n\\\n",
    "\\r\\n\\\n",
    "\"\"\"\n",
    "\n",
    "def geocode(address):\n",
    "    ci = ssl.SSLContext(ssl.PROTOCOL_TLS_CLIENT);\n",
    "    ci.verify_mode = ssl.CERT_REQUIRED;\n",
    "    ci.load_verify_locations(cafile=os.path.relpath(certifi.where()), capath=None, cadata=None)\n",
    "    unencrypted_sock = socket.socket()\n",
    "    sock = ci.wrap_socket(unencrypted_sock, server_hostname='nominatim.openstreetmap.org')\n",
    "    sock.connect(('nominatim.openstreetmap.org', 443))\n",
    "    request = request_text.format(quote_plus(address))\n",
    "    sock.sendall(request.encode('utf-8'))\n",
    "    raw_reply = b''\n",
    "    while True:\n",
    "        more = sock.recv(4096)\n",
    "        if not more:\n",
    "            break\n",
    "        raw_reply += more\n",
    "    reply = raw_reply.decode('utf-8')\n",
    "    print(reply)\n",
    "\n",
    "\n",
    "address = '4700 Research Way, Lakeland, FL 33805'\n",
    "geocode(address)"
   ]
  },
  {
   "cell_type": "code",
   "execution_count": null,
   "id": "5eccd2c1-04b0-4c4b-bc73-68de80a70f30",
   "metadata": {},
   "outputs": [],
   "source": []
  }
 ],
 "metadata": {
  "kernelspec": {
   "display_name": "Python 3 (ipykernel)",
   "language": "python",
   "name": "python3"
  },
  "language_info": {
   "codemirror_mode": {
    "name": "ipython",
    "version": 3
   },
   "file_extension": ".py",
   "mimetype": "text/x-python",
   "name": "python",
   "nbconvert_exporter": "python",
   "pygments_lexer": "ipython3",
   "version": "3.11.4"
  }
 },
 "nbformat": 4,
 "nbformat_minor": 5
}
